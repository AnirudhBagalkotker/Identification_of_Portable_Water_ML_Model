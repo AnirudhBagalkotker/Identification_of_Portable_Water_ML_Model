{
  "cells": [
    {
      "cell_type": "markdown",
      "metadata": {
        "id": "Vj_r89FzT41w"
      },
      "source": [
        "##**BITS F464 - Semester 1 - MACHINE LEARNING**\n",
        "--------------------------------------------------------------------------------\n",
        "\n",
        "**PROJECT - MACHINE LEARNING FOR SUSTAINABLE DEVELOPMENT GOALS (SDGs)**\n",
        "--------------------------------------------------------------------------------\n",
        "***Team number: 13***\n",
        "\n",
        "---\n",
        "***Full names of all students in the team: ANIRUDH BAGALKOTKER, KARTIK PANDEY, ADWAIT KULKARNI, JOY SINHA***\n",
        "\n",
        "---\n",
        "***Id number of all students in the team: 2021A7PS2682H, 2021A7PS2574H, 2021A7PS2995H, 2021A8PS1606H***\n"
      ]
    },
    {
      "cell_type": "markdown",
      "metadata": {
        "id": "Z_duS0Zn17c3"
      },
      "source": [
        "Please refer to the email providing the assignment of project and follow the instructions provided in the project brief.\n"
      ]
    },
    {
      "cell_type": "markdown",
      "metadata": {
        "id": "yT-dTtra2h2n"
      },
      "source": [
        "# **_1. Preprocessing of Dataset_**"
      ]
    },
    {
      "cell_type": "markdown",
      "metadata": {
        "id": "2UsOVUj22wrz"
      },
      "source": [
        "### The respective dataset has been shared in the project brief. Please refer to it."
      ]
    },
    {
      "cell_type": "markdown",
      "metadata": {},
      "source": [
        "### **Import Dependencies and Load Dataset**"
      ]
    },
    {
      "cell_type": "code",
      "execution_count": 269,
      "metadata": {},
      "outputs": [],
      "source": [
        "import numpy as np\n",
        "import pandas as pd\n",
        "import matplotlib.pyplot as plt\n",
        "import plotly.graph_objs as go"
      ]
    },
    {
      "cell_type": "code",
      "execution_count": 270,
      "metadata": {
        "id": "N8uONwSjNSc-"
      },
      "outputs": [
        {
          "data": {
            "text/html": [
              "<div>\n",
              "<style scoped>\n",
              "    .dataframe tbody tr th:only-of-type {\n",
              "        vertical-align: middle;\n",
              "    }\n",
              "\n",
              "    .dataframe tbody tr th {\n",
              "        vertical-align: top;\n",
              "    }\n",
              "\n",
              "    .dataframe thead th {\n",
              "        text-align: right;\n",
              "    }\n",
              "</style>\n",
              "<table border=\"1\" class=\"dataframe\">\n",
              "  <thead>\n",
              "    <tr style=\"text-align: right;\">\n",
              "      <th></th>\n",
              "      <th>ph</th>\n",
              "      <th>Hardness</th>\n",
              "      <th>Solids</th>\n",
              "      <th>Chloramines</th>\n",
              "      <th>Sulfate</th>\n",
              "      <th>Conductivity</th>\n",
              "      <th>Organic_carbon</th>\n",
              "      <th>Trihalomethanes</th>\n",
              "      <th>Turbidity</th>\n",
              "      <th>Potability</th>\n",
              "    </tr>\n",
              "  </thead>\n",
              "  <tbody>\n",
              "    <tr>\n",
              "      <th>0</th>\n",
              "      <td>NaN</td>\n",
              "      <td>204.890455</td>\n",
              "      <td>20791.318981</td>\n",
              "      <td>7.300212</td>\n",
              "      <td>368.516441</td>\n",
              "      <td>564.308654</td>\n",
              "      <td>10.379783</td>\n",
              "      <td>86.990970</td>\n",
              "      <td>2.963135</td>\n",
              "      <td>0</td>\n",
              "    </tr>\n",
              "    <tr>\n",
              "      <th>1</th>\n",
              "      <td>3.716080</td>\n",
              "      <td>129.422921</td>\n",
              "      <td>18630.057858</td>\n",
              "      <td>6.635246</td>\n",
              "      <td>NaN</td>\n",
              "      <td>592.885359</td>\n",
              "      <td>15.180013</td>\n",
              "      <td>56.329076</td>\n",
              "      <td>4.500656</td>\n",
              "      <td>0</td>\n",
              "    </tr>\n",
              "    <tr>\n",
              "      <th>2</th>\n",
              "      <td>8.099124</td>\n",
              "      <td>224.236259</td>\n",
              "      <td>19909.541732</td>\n",
              "      <td>9.275884</td>\n",
              "      <td>NaN</td>\n",
              "      <td>418.606213</td>\n",
              "      <td>16.868637</td>\n",
              "      <td>66.420093</td>\n",
              "      <td>3.055934</td>\n",
              "      <td>0</td>\n",
              "    </tr>\n",
              "    <tr>\n",
              "      <th>3</th>\n",
              "      <td>8.316766</td>\n",
              "      <td>214.373394</td>\n",
              "      <td>22018.417441</td>\n",
              "      <td>8.059332</td>\n",
              "      <td>356.886136</td>\n",
              "      <td>363.266516</td>\n",
              "      <td>18.436524</td>\n",
              "      <td>100.341674</td>\n",
              "      <td>4.628771</td>\n",
              "      <td>0</td>\n",
              "    </tr>\n",
              "    <tr>\n",
              "      <th>4</th>\n",
              "      <td>9.092223</td>\n",
              "      <td>181.101509</td>\n",
              "      <td>17978.986339</td>\n",
              "      <td>6.546600</td>\n",
              "      <td>310.135738</td>\n",
              "      <td>398.410813</td>\n",
              "      <td>11.558279</td>\n",
              "      <td>31.997993</td>\n",
              "      <td>4.075075</td>\n",
              "      <td>0</td>\n",
              "    </tr>\n",
              "  </tbody>\n",
              "</table>\n",
              "</div>"
            ],
            "text/plain": [
              "         ph    Hardness        Solids  Chloramines     Sulfate  Conductivity  \\\n",
              "0       NaN  204.890455  20791.318981     7.300212  368.516441    564.308654   \n",
              "1  3.716080  129.422921  18630.057858     6.635246         NaN    592.885359   \n",
              "2  8.099124  224.236259  19909.541732     9.275884         NaN    418.606213   \n",
              "3  8.316766  214.373394  22018.417441     8.059332  356.886136    363.266516   \n",
              "4  9.092223  181.101509  17978.986339     6.546600  310.135738    398.410813   \n",
              "\n",
              "   Organic_carbon  Trihalomethanes  Turbidity  Potability  \n",
              "0       10.379783        86.990970   2.963135           0  \n",
              "1       15.180013        56.329076   4.500656           0  \n",
              "2       16.868637        66.420093   3.055934           0  \n",
              "3       18.436524       100.341674   4.628771           0  \n",
              "4       11.558279        31.997993   4.075075           0  "
            ]
          },
          "execution_count": 270,
          "metadata": {},
          "output_type": "execute_result"
        }
      ],
      "source": [
        "# Load the dataset\n",
        "df = pd.read_csv('./water_portability.csv')\n",
        "df.head()"
      ]
    },
    {
      "cell_type": "markdown",
      "metadata": {},
      "source": [
        "### **Exploratory Data Analysis**"
      ]
    },
    {
      "cell_type": "code",
      "execution_count": 271,
      "metadata": {},
      "outputs": [
        {
          "data": {
            "text/plain": [
              "(3276, 10)"
            ]
          },
          "execution_count": 271,
          "metadata": {},
          "output_type": "execute_result"
        }
      ],
      "source": [
        "df.shape"
      ]
    },
    {
      "cell_type": "code",
      "execution_count": 272,
      "metadata": {},
      "outputs": [
        {
          "name": "stdout",
          "output_type": "stream",
          "text": [
            "<class 'pandas.core.frame.DataFrame'>\n",
            "RangeIndex: 3276 entries, 0 to 3275\n",
            "Data columns (total 10 columns):\n",
            " #   Column           Non-Null Count  Dtype  \n",
            "---  ------           --------------  -----  \n",
            " 0   ph               2785 non-null   float64\n",
            " 1   Hardness         3276 non-null   float64\n",
            " 2   Solids           3276 non-null   float64\n",
            " 3   Chloramines      3276 non-null   float64\n",
            " 4   Sulfate          2495 non-null   float64\n",
            " 5   Conductivity     3276 non-null   float64\n",
            " 6   Organic_carbon   3276 non-null   float64\n",
            " 7   Trihalomethanes  3114 non-null   float64\n",
            " 8   Turbidity        3276 non-null   float64\n",
            " 9   Potability       3276 non-null   int64  \n",
            "dtypes: float64(9), int64(1)\n",
            "memory usage: 256.1 KB\n"
          ]
        }
      ],
      "source": [
        "df.info()"
      ]
    },
    {
      "cell_type": "code",
      "execution_count": 273,
      "metadata": {},
      "outputs": [
        {
          "data": {
            "text/html": [
              "<div>\n",
              "<style scoped>\n",
              "    .dataframe tbody tr th:only-of-type {\n",
              "        vertical-align: middle;\n",
              "    }\n",
              "\n",
              "    .dataframe tbody tr th {\n",
              "        vertical-align: top;\n",
              "    }\n",
              "\n",
              "    .dataframe thead th {\n",
              "        text-align: right;\n",
              "    }\n",
              "</style>\n",
              "<table border=\"1\" class=\"dataframe\">\n",
              "  <thead>\n",
              "    <tr style=\"text-align: right;\">\n",
              "      <th></th>\n",
              "      <th>ph</th>\n",
              "      <th>Hardness</th>\n",
              "      <th>Solids</th>\n",
              "      <th>Chloramines</th>\n",
              "      <th>Sulfate</th>\n",
              "      <th>Conductivity</th>\n",
              "      <th>Organic_carbon</th>\n",
              "      <th>Trihalomethanes</th>\n",
              "      <th>Turbidity</th>\n",
              "      <th>Potability</th>\n",
              "    </tr>\n",
              "  </thead>\n",
              "  <tbody>\n",
              "    <tr>\n",
              "      <th>count</th>\n",
              "      <td>2785.000000</td>\n",
              "      <td>3276.000000</td>\n",
              "      <td>3276.000000</td>\n",
              "      <td>3276.000000</td>\n",
              "      <td>2495.000000</td>\n",
              "      <td>3276.000000</td>\n",
              "      <td>3276.000000</td>\n",
              "      <td>3114.000000</td>\n",
              "      <td>3276.000000</td>\n",
              "      <td>3276.000000</td>\n",
              "    </tr>\n",
              "    <tr>\n",
              "      <th>mean</th>\n",
              "      <td>7.080795</td>\n",
              "      <td>196.369496</td>\n",
              "      <td>22014.092526</td>\n",
              "      <td>7.122277</td>\n",
              "      <td>333.775777</td>\n",
              "      <td>426.205111</td>\n",
              "      <td>14.284970</td>\n",
              "      <td>66.396293</td>\n",
              "      <td>3.966786</td>\n",
              "      <td>0.390110</td>\n",
              "    </tr>\n",
              "    <tr>\n",
              "      <th>std</th>\n",
              "      <td>1.594320</td>\n",
              "      <td>32.879761</td>\n",
              "      <td>8768.570828</td>\n",
              "      <td>1.583085</td>\n",
              "      <td>41.416840</td>\n",
              "      <td>80.824064</td>\n",
              "      <td>3.308162</td>\n",
              "      <td>16.175008</td>\n",
              "      <td>0.780382</td>\n",
              "      <td>0.487849</td>\n",
              "    </tr>\n",
              "    <tr>\n",
              "      <th>min</th>\n",
              "      <td>0.000000</td>\n",
              "      <td>47.432000</td>\n",
              "      <td>320.942611</td>\n",
              "      <td>0.352000</td>\n",
              "      <td>129.000000</td>\n",
              "      <td>181.483754</td>\n",
              "      <td>2.200000</td>\n",
              "      <td>0.738000</td>\n",
              "      <td>1.450000</td>\n",
              "      <td>0.000000</td>\n",
              "    </tr>\n",
              "    <tr>\n",
              "      <th>25%</th>\n",
              "      <td>6.093092</td>\n",
              "      <td>176.850538</td>\n",
              "      <td>15666.690297</td>\n",
              "      <td>6.127421</td>\n",
              "      <td>307.699498</td>\n",
              "      <td>365.734414</td>\n",
              "      <td>12.065801</td>\n",
              "      <td>55.844536</td>\n",
              "      <td>3.439711</td>\n",
              "      <td>0.000000</td>\n",
              "    </tr>\n",
              "    <tr>\n",
              "      <th>50%</th>\n",
              "      <td>7.036752</td>\n",
              "      <td>196.967627</td>\n",
              "      <td>20927.833607</td>\n",
              "      <td>7.130299</td>\n",
              "      <td>333.073546</td>\n",
              "      <td>421.884968</td>\n",
              "      <td>14.218338</td>\n",
              "      <td>66.622485</td>\n",
              "      <td>3.955028</td>\n",
              "      <td>0.000000</td>\n",
              "    </tr>\n",
              "    <tr>\n",
              "      <th>75%</th>\n",
              "      <td>8.062066</td>\n",
              "      <td>216.667456</td>\n",
              "      <td>27332.762127</td>\n",
              "      <td>8.114887</td>\n",
              "      <td>359.950170</td>\n",
              "      <td>481.792304</td>\n",
              "      <td>16.557652</td>\n",
              "      <td>77.337473</td>\n",
              "      <td>4.500320</td>\n",
              "      <td>1.000000</td>\n",
              "    </tr>\n",
              "    <tr>\n",
              "      <th>max</th>\n",
              "      <td>14.000000</td>\n",
              "      <td>323.124000</td>\n",
              "      <td>61227.196008</td>\n",
              "      <td>13.127000</td>\n",
              "      <td>481.030642</td>\n",
              "      <td>753.342620</td>\n",
              "      <td>28.300000</td>\n",
              "      <td>124.000000</td>\n",
              "      <td>6.739000</td>\n",
              "      <td>1.000000</td>\n",
              "    </tr>\n",
              "  </tbody>\n",
              "</table>\n",
              "</div>"
            ],
            "text/plain": [
              "                ph     Hardness        Solids  Chloramines      Sulfate  \\\n",
              "count  2785.000000  3276.000000   3276.000000  3276.000000  2495.000000   \n",
              "mean      7.080795   196.369496  22014.092526     7.122277   333.775777   \n",
              "std       1.594320    32.879761   8768.570828     1.583085    41.416840   \n",
              "min       0.000000    47.432000    320.942611     0.352000   129.000000   \n",
              "25%       6.093092   176.850538  15666.690297     6.127421   307.699498   \n",
              "50%       7.036752   196.967627  20927.833607     7.130299   333.073546   \n",
              "75%       8.062066   216.667456  27332.762127     8.114887   359.950170   \n",
              "max      14.000000   323.124000  61227.196008    13.127000   481.030642   \n",
              "\n",
              "       Conductivity  Organic_carbon  Trihalomethanes    Turbidity   Potability  \n",
              "count   3276.000000     3276.000000      3114.000000  3276.000000  3276.000000  \n",
              "mean     426.205111       14.284970        66.396293     3.966786     0.390110  \n",
              "std       80.824064        3.308162        16.175008     0.780382     0.487849  \n",
              "min      181.483754        2.200000         0.738000     1.450000     0.000000  \n",
              "25%      365.734414       12.065801        55.844536     3.439711     0.000000  \n",
              "50%      421.884968       14.218338        66.622485     3.955028     0.000000  \n",
              "75%      481.792304       16.557652        77.337473     4.500320     1.000000  \n",
              "max      753.342620       28.300000       124.000000     6.739000     1.000000  "
            ]
          },
          "execution_count": 273,
          "metadata": {},
          "output_type": "execute_result"
        }
      ],
      "source": [
        "df.describe()"
      ]
    },
    {
      "cell_type": "code",
      "execution_count": 274,
      "metadata": {},
      "outputs": [
        {
          "data": {
            "text/plain": [
              "Potability\n",
              "0    0.60989\n",
              "1    0.39011\n",
              "Name: proportion, dtype: float64"
            ]
          },
          "execution_count": 274,
          "metadata": {},
          "output_type": "execute_result"
        }
      ],
      "source": [
        "df['Potability'].value_counts(normalize=True)"
      ]
    },
    {
      "cell_type": "code",
      "execution_count": 275,
      "metadata": {},
      "outputs": [
        {
          "data": {
            "text/plain": [
              "ph                 0.025630\n",
              "Hardness          -0.039342\n",
              "Solids             0.621634\n",
              "Chloramines       -0.012098\n",
              "Sulfate           -0.035947\n",
              "Conductivity       0.264490\n",
              "Organic_carbon     0.025533\n",
              "Trihalomethanes   -0.083031\n",
              "Turbidity         -0.007817\n",
              "dtype: float64"
            ]
          },
          "execution_count": 275,
          "metadata": {},
          "output_type": "execute_result"
        }
      ],
      "source": [
        "df.drop('Potability', axis=1).skew()"
      ]
    },
    {
      "cell_type": "code",
      "execution_count": 276,
      "metadata": {},
      "outputs": [
        {
          "data": {
            "image/png": "[encoded data removed]",
            "text/plain": [
              "<Figure size 1200x800 with 9 Axes>"
            ]
          },
          "metadata": {},
          "output_type": "display_data"
        }
      ],
      "source": [
        "df.drop('Potability', axis = 1).hist(figsize=(12,8), color=\"#1261A0\");"
      ]
    },
    {
      "cell_type": "code",
      "execution_count": 277,
      "metadata": {},
      "outputs": [
        {
          "data": {
            "text/html": [
              "<div>\n",
              "<style scoped>\n",
              "    .dataframe tbody tr th:only-of-type {\n",
              "        vertical-align: middle;\n",
              "    }\n",
              "\n",
              "    .dataframe tbody tr th {\n",
              "        vertical-align: top;\n",
              "    }\n",
              "\n",
              "    .dataframe thead th {\n",
              "        text-align: right;\n",
              "    }\n",
              "</style>\n",
              "<table border=\"1\" class=\"dataframe\">\n",
              "  <thead>\n",
              "    <tr style=\"text-align: right;\">\n",
              "      <th></th>\n",
              "      <th>ph</th>\n",
              "      <th>Hardness</th>\n",
              "      <th>Solids</th>\n",
              "      <th>Chloramines</th>\n",
              "      <th>Sulfate</th>\n",
              "      <th>Conductivity</th>\n",
              "      <th>Organic_carbon</th>\n",
              "      <th>Trihalomethanes</th>\n",
              "      <th>Turbidity</th>\n",
              "      <th>Potability</th>\n",
              "    </tr>\n",
              "  </thead>\n",
              "  <tbody>\n",
              "    <tr>\n",
              "      <th>ph</th>\n",
              "      <td>1.000000</td>\n",
              "      <td>0.082096</td>\n",
              "      <td>-0.089288</td>\n",
              "      <td>-0.034350</td>\n",
              "      <td>0.018203</td>\n",
              "      <td>0.018614</td>\n",
              "      <td>0.043503</td>\n",
              "      <td>0.003354</td>\n",
              "      <td>-0.039057</td>\n",
              "      <td>-0.003556</td>\n",
              "    </tr>\n",
              "    <tr>\n",
              "      <th>Hardness</th>\n",
              "      <td>0.082096</td>\n",
              "      <td>1.000000</td>\n",
              "      <td>-0.046899</td>\n",
              "      <td>-0.030054</td>\n",
              "      <td>-0.106923</td>\n",
              "      <td>-0.023915</td>\n",
              "      <td>0.003610</td>\n",
              "      <td>-0.013013</td>\n",
              "      <td>-0.014449</td>\n",
              "      <td>-0.013837</td>\n",
              "    </tr>\n",
              "    <tr>\n",
              "      <th>Solids</th>\n",
              "      <td>-0.089288</td>\n",
              "      <td>-0.046899</td>\n",
              "      <td>1.000000</td>\n",
              "      <td>-0.070148</td>\n",
              "      <td>-0.171804</td>\n",
              "      <td>0.013831</td>\n",
              "      <td>0.010242</td>\n",
              "      <td>-0.009143</td>\n",
              "      <td>0.019546</td>\n",
              "      <td>0.033743</td>\n",
              "    </tr>\n",
              "    <tr>\n",
              "      <th>Chloramines</th>\n",
              "      <td>-0.034350</td>\n",
              "      <td>-0.030054</td>\n",
              "      <td>-0.070148</td>\n",
              "      <td>1.000000</td>\n",
              "      <td>0.027244</td>\n",
              "      <td>-0.020486</td>\n",
              "      <td>-0.012653</td>\n",
              "      <td>0.017084</td>\n",
              "      <td>0.002363</td>\n",
              "      <td>0.023779</td>\n",
              "    </tr>\n",
              "    <tr>\n",
              "      <th>Sulfate</th>\n",
              "      <td>0.018203</td>\n",
              "      <td>-0.106923</td>\n",
              "      <td>-0.171804</td>\n",
              "      <td>0.027244</td>\n",
              "      <td>1.000000</td>\n",
              "      <td>-0.016121</td>\n",
              "      <td>0.030831</td>\n",
              "      <td>-0.030274</td>\n",
              "      <td>-0.011187</td>\n",
              "      <td>-0.023577</td>\n",
              "    </tr>\n",
              "    <tr>\n",
              "      <th>Conductivity</th>\n",
              "      <td>0.018614</td>\n",
              "      <td>-0.023915</td>\n",
              "      <td>0.013831</td>\n",
              "      <td>-0.020486</td>\n",
              "      <td>-0.016121</td>\n",
              "      <td>1.000000</td>\n",
              "      <td>0.020966</td>\n",
              "      <td>0.001285</td>\n",
              "      <td>0.005798</td>\n",
              "      <td>-0.008128</td>\n",
              "    </tr>\n",
              "    <tr>\n",
              "      <th>Organic_carbon</th>\n",
              "      <td>0.043503</td>\n",
              "      <td>0.003610</td>\n",
              "      <td>0.010242</td>\n",
              "      <td>-0.012653</td>\n",
              "      <td>0.030831</td>\n",
              "      <td>0.020966</td>\n",
              "      <td>1.000000</td>\n",
              "      <td>-0.013274</td>\n",
              "      <td>-0.027308</td>\n",
              "      <td>-0.030001</td>\n",
              "    </tr>\n",
              "    <tr>\n",
              "      <th>Trihalomethanes</th>\n",
              "      <td>0.003354</td>\n",
              "      <td>-0.013013</td>\n",
              "      <td>-0.009143</td>\n",
              "      <td>0.017084</td>\n",
              "      <td>-0.030274</td>\n",
              "      <td>0.001285</td>\n",
              "      <td>-0.013274</td>\n",
              "      <td>1.000000</td>\n",
              "      <td>-0.022145</td>\n",
              "      <td>0.007130</td>\n",
              "    </tr>\n",
              "    <tr>\n",
              "      <th>Turbidity</th>\n",
              "      <td>-0.039057</td>\n",
              "      <td>-0.014449</td>\n",
              "      <td>0.019546</td>\n",
              "      <td>0.002363</td>\n",
              "      <td>-0.011187</td>\n",
              "      <td>0.005798</td>\n",
              "      <td>-0.027308</td>\n",
              "      <td>-0.022145</td>\n",
              "      <td>1.000000</td>\n",
              "      <td>0.001581</td>\n",
              "    </tr>\n",
              "    <tr>\n",
              "      <th>Potability</th>\n",
              "      <td>-0.003556</td>\n",
              "      <td>-0.013837</td>\n",
              "      <td>0.033743</td>\n",
              "      <td>0.023779</td>\n",
              "      <td>-0.023577</td>\n",
              "      <td>-0.008128</td>\n",
              "      <td>-0.030001</td>\n",
              "      <td>0.007130</td>\n",
              "      <td>0.001581</td>\n",
              "      <td>1.000000</td>\n",
              "    </tr>\n",
              "  </tbody>\n",
              "</table>\n",
              "</div>"
            ],
            "text/plain": [
              "                       ph  Hardness    Solids  Chloramines   Sulfate  \\\n",
              "ph               1.000000  0.082096 -0.089288    -0.034350  0.018203   \n",
              "Hardness         0.082096  1.000000 -0.046899    -0.030054 -0.106923   \n",
              "Solids          -0.089288 -0.046899  1.000000    -0.070148 -0.171804   \n",
              "Chloramines     -0.034350 -0.030054 -0.070148     1.000000  0.027244   \n",
              "Sulfate          0.018203 -0.106923 -0.171804     0.027244  1.000000   \n",
              "Conductivity     0.018614 -0.023915  0.013831    -0.020486 -0.016121   \n",
              "Organic_carbon   0.043503  0.003610  0.010242    -0.012653  0.030831   \n",
              "Trihalomethanes  0.003354 -0.013013 -0.009143     0.017084 -0.030274   \n",
              "Turbidity       -0.039057 -0.014449  0.019546     0.002363 -0.011187   \n",
              "Potability      -0.003556 -0.013837  0.033743     0.023779 -0.023577   \n",
              "\n",
              "                 Conductivity  Organic_carbon  Trihalomethanes  Turbidity  \\\n",
              "ph                   0.018614        0.043503         0.003354  -0.039057   \n",
              "Hardness            -0.023915        0.003610        -0.013013  -0.014449   \n",
              "Solids               0.013831        0.010242        -0.009143   0.019546   \n",
              "Chloramines         -0.020486       -0.012653         0.017084   0.002363   \n",
              "Sulfate             -0.016121        0.030831        -0.030274  -0.011187   \n",
              "Conductivity         1.000000        0.020966         0.001285   0.005798   \n",
              "Organic_carbon       0.020966        1.000000        -0.013274  -0.027308   \n",
              "Trihalomethanes      0.001285       -0.013274         1.000000  -0.022145   \n",
              "Turbidity            0.005798       -0.027308        -0.022145   1.000000   \n",
              "Potability          -0.008128       -0.030001         0.007130   0.001581   \n",
              "\n",
              "                 Potability  \n",
              "ph                -0.003556  \n",
              "Hardness          -0.013837  \n",
              "Solids             0.033743  \n",
              "Chloramines        0.023779  \n",
              "Sulfate           -0.023577  \n",
              "Conductivity      -0.008128  \n",
              "Organic_carbon    -0.030001  \n",
              "Trihalomethanes    0.007130  \n",
              "Turbidity          0.001581  \n",
              "Potability         1.000000  "
            ]
          },
          "execution_count": 277,
          "metadata": {},
          "output_type": "execute_result"
        }
      ],
      "source": [
        "df.corr()"
      ]
    },
    {
      "cell_type": "code",
      "execution_count": 278,
      "metadata": {},
      "outputs": [
        {
          "data": {
            "application/vnd.plotly.v1+json": {
              "config": {
                "plotlyServerURL": "https://plot.ly"
              },
              "data": [
                {
                  "colorscale": [
                    [
                      0,
                      "#440154"
                    ],
                    [
                      0.1111111111111111,
                      "#482878"
                    ],
                    [
                      0.2222222222222222,
                      "#3e4989"
                    ],
                    [
                      0.3333333333333333,
                      "#31688e"
                    ],
                    [
                      0.4444444444444444,
                      "#26828e"
                    ],
                    [
                      0.5555555555555556,
                      "#1f9e89"
                    ],
                    [
                      0.6666666666666666,
                      "#35b779"
                    ],
                    [
                      0.7777777777777778,
                      "#6ece58"
                    ],
                    [
                      0.8888888888888888,
                      "#b5de2b"
                    ],
                    [
                      1,
                      "#fde725"
                    ]
                  ],
                  "type": "heatmap",
                  "x": [
                    "ph",
                    "Hardness",
                    "Solids",
                    "Chloramines",
                    "Sulfate",
                    "Conductivity",
                    "Organic_carbon",
                    "Trihalomethanes",
                    "Turbidity",
                    "Potability"
                  ],
                  "y": [
                    "ph",
                    "Hardness",
                    "Solids",
                    "Chloramines",
                    "Sulfate",
                    "Conductivity",
                    "Organic_carbon",
                    "Trihalomethanes",
                    "Turbidity",
                    "Potability"
                  ],
                  "z": [
                    [
                      1,
                      0.08209640686603702,
                      -0.08928825011982429,
                      -0.034349865310687955,
                      0.018203101178235027,
                      0.018614209503621658,
                      0.04350334128238972,
                      0.0033541703101398804,
                      -0.03905666613664019,
                      -0.0035564617651680386
                    ],
                    [
                      0.08209640686603702,
                      1,
                      -0.04689936548817769,
                      -0.03005423856376886,
                      -0.10692345399851362,
                      -0.023914599662821827,
                      0.003610040323735707,
                      -0.013013215587152972,
                      -0.014449129313291509,
                      -0.013836558085111897
                    ],
                    [
                      -0.08928825011982429,
                      -0.04689936548817769,
                      1,
                      -0.07014757983260811,
                      -0.17180427470199292,
                      0.013830898324440413,
                      0.01024234296976802,
                      -0.009143253045947364,
                      0.019546144182463494,
                      0.03374331339365026
                    ],
                    [
                      -0.034349865310687955,
                      -0.03005423856376886,
                      -0.07014757983260811,
                      1,
                      0.027244272214811953,
                      -0.02048640920836434,
                      -0.012653471042452432,
                      0.01708402623193681,
                      0.0023633210684490037,
                      0.02377897199467
                    ],
                    [
                      0.018203101178235027,
                      -0.10692345399851362,
                      -0.17180427470199292,
                      0.027244272214811953,
                      1,
                      -0.016120564484978474,
                      0.03083117122697763,
                      -0.03027406187757645,
                      -0.011186961299773687,
                      -0.023577040191927266
                    ],
                    [
                      0.018614209503621658,
                      -0.023914599662821827,
                      0.013830898324440413,
                      -0.02048640920836434,
                      -0.016120564484978474,
                      1,
                      0.020966360660054594,
                      0.0012852360715532888,
                      0.005798167748576468,
                      -0.008128319721545636
                    ],
                    [
                      0.04350334128238972,
                      0.003610040323735707,
                      0.01024234296976802,
                      -0.012653471042452432,
                      0.03083117122697763,
                      0.020966360660054594,
                      1,
                      -0.013274179089299773,
                      -0.027308113024473623,
                      -0.030001366610944234
                    ],
                    [
                      0.0033541703101398804,
                      -0.013013215587152972,
                      -0.009143253045947364,
                      0.01708402623193681,
                      -0.03027406187757645,
                      0.0012852360715532888,
                      -0.013274179089299773,
                      1,
                      -0.022144966846641502,
                      0.007130401120661979
                    ],
                    [
                      -0.03905666613664019,
                      -0.014449129313291509,
                      0.019546144182463494,
                      0.0023633210684490037,
                      -0.011186961299773687,
                      0.005798167748576468,
                      -0.027308113024473623,
                      -0.022144966846641502,
                      1,
                      0.0015806819539225805
                    ],
                    [
                      -0.0035564617651680386,
                      -0.013836558085111897,
                      0.03374331339365026,
                      0.02377897199467,
                      -0.023577040191927266,
                      -0.008128319721545636,
                      -0.030001366610944234,
                      0.007130401120661979,
                      0.0015806819539225805,
                      1
                    ]
                  ]
                }
              ],
              "layout": {
                "template": {
                  "data": {
                    "bar": [
                      {
                        "error_x": {
                          "color": "#2a3f5f"
                        },
                        "error_y": {
                          "color": "#2a3f5f"
                        },
                        "marker": {
                          "line": {
                            "color": "#E5ECF6",
                            "width": 0.5
                          },
                          "pattern": {
                            "fillmode": "overlay",
                            "size": 10,
                            "solidity": 0.2
                          }
                        },
                        "type": "bar"
                      }
                    ],
                    "barpolar": [
                      {
                        "marker": {
                          "line": {
                            "color": "#E5ECF6",
                            "width": 0.5
                          },
                          "pattern": {
                            "fillmode": "overlay",
                            "size": 10,
                            "solidity": 0.2
                          }
                        },
                        "type": "barpolar"
                      }
                    ],
                    "carpet": [
                      {
                        "aaxis": {
                          "endlinecolor": "#2a3f5f",
                          "gridcolor": "white",
                          "linecolor": "white",
                          "minorgridcolor": "white",
                          "startlinecolor": "#2a3f5f"
                        },
                        "baxis": {
                          "endlinecolor": "#2a3f5f",
                          "gridcolor": "white",
                          "linecolor": "white",
                          "minorgridcolor": "white",
                          "startlinecolor": "#2a3f5f"
                        },
                        "type": "carpet"
                      }
                    ],
                    "choropleth": [
                      {
                        "colorbar": {
                          "outlinewidth": 0,
                          "ticks": ""
                        },
                        "type": "choropleth"
                      }
                    ],
                    "contour": [
                      {
                        "colorbar": {
                          "outlinewidth": 0,
                          "ticks": ""
                        },
                        "colorscale": [
                          [
                            0,
                            "#0d0887"
                          ],
                          [
                            0.1111111111111111,
                            "#46039f"
                          ],
                          [
                            0.2222222222222222,
                            "#7201a8"
                          ],
                          [
                            0.3333333333333333,
                            "#9c179e"
                          ],
                          [
                            0.4444444444444444,
                            "#bd3786"
                          ],
                          [
                            0.5555555555555556,
                            "#d8576b"
                          ],
                          [
                            0.6666666666666666,
                            "#ed7953"
                          ],
                          [
                            0.7777777777777778,
                            "#fb9f3a"
                          ],
                          [
                            0.8888888888888888,
                            "#fdca26"
                          ],
                          [
                            1,
                            "#f0f921"
                          ]
                        ],
                        "type": "contour"
                      }
                    ],
                    "contourcarpet": [
                      {
                        "colorbar": {
                          "outlinewidth": 0,
                          "ticks": ""
                        },
                        "type": "contourcarpet"
                      }
                    ],
                    "heatmap": [
                      {
                        "colorbar": {
                          "outlinewidth": 0,
                          "ticks": ""
                        },
                        "colorscale": [
                          [
                            0,
                            "#0d0887"
                          ],
                          [
                            0.1111111111111111,
                            "#46039f"
                          ],
                          [
                            0.2222222222222222,
                            "#7201a8"
                          ],
                          [
                            0.3333333333333333,
                            "#9c179e"
                          ],
                          [
                            0.4444444444444444,
                            "#bd3786"
                          ],
                          [
                            0.5555555555555556,
                            "#d8576b"
                          ],
                          [
                            0.6666666666666666,
                            "#ed7953"
                          ],
                          [
                            0.7777777777777778,
                            "#fb9f3a"
                          ],
                          [
                            0.8888888888888888,
                            "#fdca26"
                          ],
                          [
                            1,
                            "#f0f921"
                          ]
                        ],
                        "type": "heatmap"
                      }
                    ],
                    "heatmapgl": [
                      {
                        "colorbar": {
                          "outlinewidth": 0,
                          "ticks": ""
                        },
                        "colorscale": [
                          [
                            0,
                            "#0d0887"
                          ],
                          [
                            0.1111111111111111,
                            "#46039f"
                          ],
                          [
                            0.2222222222222222,
                            "#7201a8"
                          ],
                          [
                            0.3333333333333333,
                            "#9c179e"
                          ],
                          [
                            0.4444444444444444,
                            "#bd3786"
                          ],
                          [
                            0.5555555555555556,
                            "#d8576b"
                          ],
                          [
                            0.6666666666666666,
                            "#ed7953"
                          ],
                          [
                            0.7777777777777778,
                            "#fb9f3a"
                          ],
                          [
                            0.8888888888888888,
                            "#fdca26"
                          ],
                          [
                            1,
                            "#f0f921"
                          ]
                        ],
                        "type": "heatmapgl"
                      }
                    ],
                    "histogram": [
                      {
                        "marker": {
                          "pattern": {
                            "fillmode": "overlay",
                            "size": 10,
                            "solidity": 0.2
                          }
                        },
                        "type": "histogram"
                      }
                    ],
                    "histogram2d": [
                      {
                        "colorbar": {
                          "outlinewidth": 0,
                          "ticks": ""
                        },
                        "colorscale": [
                          [
                            0,
                            "#0d0887"
                          ],
                          [
                            0.1111111111111111,
                            "#46039f"
                          ],
                          [
                            0.2222222222222222,
                            "#7201a8"
                          ],
                          [
                            0.3333333333333333,
                            "#9c179e"
                          ],
                          [
                            0.4444444444444444,
                            "#bd3786"
                          ],
                          [
                            0.5555555555555556,
                            "#d8576b"
                          ],
                          [
                            0.6666666666666666,
                            "#ed7953"
                          ],
                          [
                            0.7777777777777778,
                            "#fb9f3a"
                          ],
                          [
                            0.8888888888888888,
                            "#fdca26"
                          ],
                          [
                            1,
                            "#f0f921"
                          ]
                        ],
                        "type": "histogram2d"
                      }
                    ],
                    "histogram2dcontour": [
                      {
                        "colorbar": {
                          "outlinewidth": 0,
                          "ticks": ""
                        },
                        "colorscale": [
                          [
                            0,
                            "#0d0887"
                          ],
                          [
                            0.1111111111111111,
                            "#46039f"
                          ],
                          [
                            0.2222222222222222,
                            "#7201a8"
                          ],
                          [
                            0.3333333333333333,
                            "#9c179e"
                          ],
                          [
                            0.4444444444444444,
                            "#bd3786"
                          ],
                          [
                            0.5555555555555556,
                            "#d8576b"
                          ],
                          [
                            0.6666666666666666,
                            "#ed7953"
                          ],
                          [
                            0.7777777777777778,
                            "#fb9f3a"
                          ],
                          [
                            0.8888888888888888,
                            "#fdca26"
                          ],
                          [
                            1,
                            "#f0f921"
                          ]
                        ],
                        "type": "histogram2dcontour"
                      }
                    ],
                    "mesh3d": [
                      {
                        "colorbar": {
                          "outlinewidth": 0,
                          "ticks": ""
                        },
                        "type": "mesh3d"
                      }
                    ],
                    "parcoords": [
                      {
                        "line": {
                          "colorbar": {
                            "outlinewidth": 0,
                            "ticks": ""
                          }
                        },
                        "type": "parcoords"
                      }
                    ],
                    "pie": [
                      {
                        "automargin": true,
                        "type": "pie"
                      }
                    ],
                    "scatter": [
                      {
                        "fillpattern": {
                          "fillmode": "overlay",
                          "size": 10,
                          "solidity": 0.2
                        },
                        "type": "scatter"
                      }
                    ],
                    "scatter3d": [
                      {
                        "line": {
                          "colorbar": {
                            "outlinewidth": 0,
                            "ticks": ""
                          }
                        },
                        "marker": {
                          "colorbar": {
                            "outlinewidth": 0,
                            "ticks": ""
                          }
                        },
                        "type": "scatter3d"
                      }
                    ],
                    "scattercarpet": [
                      {
                        "marker": {
                          "colorbar": {
                            "outlinewidth": 0,
                            "ticks": ""
                          }
                        },
                        "type": "scattercarpet"
                      }
                    ],
                    "scattergeo": [
                      {
                        "marker": {
                          "colorbar": {
                            "outlinewidth": 0,
                            "ticks": ""
                          }
                        },
                        "type": "scattergeo"
                      }
                    ],
                    "scattergl": [
                      {
                        "marker": {
                          "colorbar": {
                            "outlinewidth": 0,
                            "ticks": ""
                          }
                        },
                        "type": "scattergl"
                      }
                    ],
                    "scattermapbox": [
                      {
                        "marker": {
                          "colorbar": {
                            "outlinewidth": 0,
                            "ticks": ""
                          }
                        },
                        "type": "scattermapbox"
                      }
                    ],
                    "scatterpolar": [
                      {
                        "marker": {
                          "colorbar": {
                            "outlinewidth": 0,
                            "ticks": ""
                          }
                        },
                        "type": "scatterpolar"
                      }
                    ],
                    "scatterpolargl": [
                      {
                        "marker": {
                          "colorbar": {
                            "outlinewidth": 0,
                            "ticks": ""
                          }
                        },
                        "type": "scatterpolargl"
                      }
                    ],
                    "scatterternary": [
                      {
                        "marker": {
                          "colorbar": {
                            "outlinewidth": 0,
                            "ticks": ""
                          }
                        },
                        "type": "scatterternary"
                      }
                    ],
                    "surface": [
                      {
                        "colorbar": {
                          "outlinewidth": 0,
                          "ticks": ""
                        },
                        "colorscale": [
                          [
                            0,
                            "#0d0887"
                          ],
                          [
                            0.1111111111111111,
                            "#46039f"
                          ],
                          [
                            0.2222222222222222,
                            "#7201a8"
                          ],
                          [
                            0.3333333333333333,
                            "#9c179e"
                          ],
                          [
                            0.4444444444444444,
                            "#bd3786"
                          ],
                          [
                            0.5555555555555556,
                            "#d8576b"
                          ],
                          [
                            0.6666666666666666,
                            "#ed7953"
                          ],
                          [
                            0.7777777777777778,
                            "#fb9f3a"
                          ],
                          [
                            0.8888888888888888,
                            "#fdca26"
                          ],
                          [
                            1,
                            "#f0f921"
                          ]
                        ],
                        "type": "surface"
                      }
                    ],
                    "table": [
                      {
                        "cells": {
                          "fill": {
                            "color": "#EBF0F8"
                          },
                          "line": {
                            "color": "white"
                          }
                        },
                        "header": {
                          "fill": {
                            "color": "#C8D4E3"
                          },
                          "line": {
                            "color": "white"
                          }
                        },
                        "type": "table"
                      }
                    ]
                  },
                  "layout": {
                    "annotationdefaults": {
                      "arrowcolor": "#2a3f5f",
                      "arrowhead": 0,
                      "arrowwidth": 1
                    },
                    "autotypenumbers": "strict",
                    "coloraxis": {
                      "colorbar": {
                        "outlinewidth": 0,
                        "ticks": ""
                      }
                    },
                    "colorscale": {
                      "diverging": [
                        [
                          0,
                          "#8e0152"
                        ],
                        [
                          0.1,
                          "#c51b7d"
                        ],
                        [
                          0.2,
                          "#de77ae"
                        ],
                        [
                          0.3,
                          "#f1b6da"
                        ],
                        [
                          0.4,
                          "#fde0ef"
                        ],
                        [
                          0.5,
                          "#f7f7f7"
                        ],
                        [
                          0.6,
                          "#e6f5d0"
                        ],
                        [
                          0.7,
                          "#b8e186"
                        ],
                        [
                          0.8,
                          "#7fbc41"
                        ],
                        [
                          0.9,
                          "#4d9221"
                        ],
                        [
                          1,
                          "#276419"
                        ]
                      ],
                      "sequential": [
                        [
                          0,
                          "#0d0887"
                        ],
                        [
                          0.1111111111111111,
                          "#46039f"
                        ],
                        [
                          0.2222222222222222,
                          "#7201a8"
                        ],
                        [
                          0.3333333333333333,
                          "#9c179e"
                        ],
                        [
                          0.4444444444444444,
                          "#bd3786"
                        ],
                        [
                          0.5555555555555556,
                          "#d8576b"
                        ],
                        [
                          0.6666666666666666,
                          "#ed7953"
                        ],
                        [
                          0.7777777777777778,
                          "#fb9f3a"
                        ],
                        [
                          0.8888888888888888,
                          "#fdca26"
                        ],
                        [
                          1,
                          "#f0f921"
                        ]
                      ],
                      "sequentialminus": [
                        [
                          0,
                          "#0d0887"
                        ],
                        [
                          0.1111111111111111,
                          "#46039f"
                        ],
                        [
                          0.2222222222222222,
                          "#7201a8"
                        ],
                        [
                          0.3333333333333333,
                          "#9c179e"
                        ],
                        [
                          0.4444444444444444,
                          "#bd3786"
                        ],
                        [
                          0.5555555555555556,
                          "#d8576b"
                        ],
                        [
                          0.6666666666666666,
                          "#ed7953"
                        ],
                        [
                          0.7777777777777778,
                          "#fb9f3a"
                        ],
                        [
                          0.8888888888888888,
                          "#fdca26"
                        ],
                        [
                          1,
                          "#f0f921"
                        ]
                      ]
                    },
                    "colorway": [
                      "#636efa",
                      "#EF553B",
                      "#00cc96",
                      "#ab63fa",
                      "#FFA15A",
                      "#19d3f3",
                      "#FF6692",
                      "#B6E880",
                      "#FF97FF",
                      "#FECB52"
                    ],
                    "font": {
                      "color": "#2a3f5f"
                    },
                    "geo": {
                      "bgcolor": "white",
                      "lakecolor": "white",
                      "landcolor": "#E5ECF6",
                      "showlakes": true,
                      "showland": true,
                      "subunitcolor": "white"
                    },
                    "hoverlabel": {
                      "align": "left"
                    },
                    "hovermode": "closest",
                    "mapbox": {
                      "style": "light"
                    },
                    "paper_bgcolor": "white",
                    "plot_bgcolor": "#E5ECF6",
                    "polar": {
                      "angularaxis": {
                        "gridcolor": "white",
                        "linecolor": "white",
                        "ticks": ""
                      },
                      "bgcolor": "#E5ECF6",
                      "radialaxis": {
                        "gridcolor": "white",
                        "linecolor": "white",
                        "ticks": ""
                      }
                    },
                    "scene": {
                      "xaxis": {
                        "backgroundcolor": "#E5ECF6",
                        "gridcolor": "white",
                        "gridwidth": 2,
                        "linecolor": "white",
                        "showbackground": true,
                        "ticks": "",
                        "zerolinecolor": "white"
                      },
                      "yaxis": {
                        "backgroundcolor": "#E5ECF6",
                        "gridcolor": "white",
                        "gridwidth": 2,
                        "linecolor": "white",
                        "showbackground": true,
                        "ticks": "",
                        "zerolinecolor": "white"
                      },
                      "zaxis": {
                        "backgroundcolor": "#E5ECF6",
                        "gridcolor": "white",
                        "gridwidth": 2,
                        "linecolor": "white",
                        "showbackground": true,
                        "ticks": "",
                        "zerolinecolor": "white"
                      }
                    },
                    "shapedefaults": {
                      "line": {
                        "color": "#2a3f5f"
                      }
                    },
                    "ternary": {
                      "aaxis": {
                        "gridcolor": "white",
                        "linecolor": "white",
                        "ticks": ""
                      },
                      "baxis": {
                        "gridcolor": "white",
                        "linecolor": "white",
                        "ticks": ""
                      },
                      "bgcolor": "#E5ECF6",
                      "caxis": {
                        "gridcolor": "white",
                        "linecolor": "white",
                        "ticks": ""
                      }
                    },
                    "title": {
                      "x": 0.05
                    },
                    "xaxis": {
                      "automargin": true,
                      "gridcolor": "white",
                      "linecolor": "white",
                      "ticks": "",
                      "title": {
                        "standoff": 15
                      },
                      "zerolinecolor": "white",
                      "zerolinewidth": 2
                    },
                    "yaxis": {
                      "automargin": true,
                      "gridcolor": "white",
                      "linecolor": "white",
                      "ticks": "",
                      "title": {
                        "standoff": 15
                      },
                      "zerolinecolor": "white",
                      "zerolinewidth": 2
                    }
                  }
                }
              }
            }
          },
          "metadata": {},
          "output_type": "display_data"
        }
      ],
      "source": [
        "fig = go.Figure(go.Heatmap(z=df.corr(), x=df.corr().columns.tolist(), y=df.corr().columns.tolist(), colorscale='Viridis'))\n",
        "fig.show()"
      ]
    },
    {
      "cell_type": "markdown",
      "metadata": {},
      "source": [
        "### **Data Preprocessing**"
      ]
    },
    {
      "cell_type": "code",
      "execution_count": 279,
      "metadata": {},
      "outputs": [
        {
          "data": {
            "text/plain": [
              "ph                 491\n",
              "Hardness             0\n",
              "Solids               0\n",
              "Chloramines          0\n",
              "Sulfate            781\n",
              "Conductivity         0\n",
              "Organic_carbon       0\n",
              "Trihalomethanes    162\n",
              "Turbidity            0\n",
              "Potability           0\n",
              "dtype: int64"
            ]
          },
          "execution_count": 279,
          "metadata": {},
          "output_type": "execute_result"
        }
      ],
      "source": [
        "# Check if there are any missing values\n",
        "df.isna().sum()"
      ]
    },
    {
      "cell_type": "code",
      "execution_count": 280,
      "metadata": {},
      "outputs": [
        {
          "data": {
            "text/html": [
              "<div>\n",
              "<style scoped>\n",
              "    .dataframe tbody tr th:only-of-type {\n",
              "        vertical-align: middle;\n",
              "    }\n",
              "\n",
              "    .dataframe tbody tr th {\n",
              "        vertical-align: top;\n",
              "    }\n",
              "\n",
              "    .dataframe thead th {\n",
              "        text-align: right;\n",
              "    }\n",
              "</style>\n",
              "<table border=\"1\" class=\"dataframe\">\n",
              "  <thead>\n",
              "    <tr style=\"text-align: right;\">\n",
              "      <th></th>\n",
              "      <th>ph</th>\n",
              "      <th>Hardness</th>\n",
              "      <th>Solids</th>\n",
              "      <th>Chloramines</th>\n",
              "      <th>Sulfate</th>\n",
              "      <th>Conductivity</th>\n",
              "      <th>Organic_carbon</th>\n",
              "      <th>Trihalomethanes</th>\n",
              "      <th>Turbidity</th>\n",
              "      <th>Potability</th>\n",
              "    </tr>\n",
              "  </thead>\n",
              "  <tbody>\n",
              "    <tr>\n",
              "      <th>0</th>\n",
              "      <td>7.080795</td>\n",
              "      <td>204.890455</td>\n",
              "      <td>20791.318981</td>\n",
              "      <td>7.300212</td>\n",
              "      <td>368.516441</td>\n",
              "      <td>564.308654</td>\n",
              "      <td>10.379783</td>\n",
              "      <td>86.990970</td>\n",
              "      <td>2.963135</td>\n",
              "      <td>0</td>\n",
              "    </tr>\n",
              "    <tr>\n",
              "      <th>1</th>\n",
              "      <td>3.716080</td>\n",
              "      <td>129.422921</td>\n",
              "      <td>18630.057858</td>\n",
              "      <td>6.635246</td>\n",
              "      <td>333.775777</td>\n",
              "      <td>592.885359</td>\n",
              "      <td>15.180013</td>\n",
              "      <td>56.329076</td>\n",
              "      <td>4.500656</td>\n",
              "      <td>0</td>\n",
              "    </tr>\n",
              "    <tr>\n",
              "      <th>2</th>\n",
              "      <td>8.099124</td>\n",
              "      <td>224.236259</td>\n",
              "      <td>19909.541732</td>\n",
              "      <td>9.275884</td>\n",
              "      <td>333.775777</td>\n",
              "      <td>418.606213</td>\n",
              "      <td>16.868637</td>\n",
              "      <td>66.420093</td>\n",
              "      <td>3.055934</td>\n",
              "      <td>0</td>\n",
              "    </tr>\n",
              "    <tr>\n",
              "      <th>3</th>\n",
              "      <td>8.316766</td>\n",
              "      <td>214.373394</td>\n",
              "      <td>22018.417441</td>\n",
              "      <td>8.059332</td>\n",
              "      <td>356.886136</td>\n",
              "      <td>363.266516</td>\n",
              "      <td>18.436524</td>\n",
              "      <td>100.341674</td>\n",
              "      <td>4.628771</td>\n",
              "      <td>0</td>\n",
              "    </tr>\n",
              "    <tr>\n",
              "      <th>4</th>\n",
              "      <td>9.092223</td>\n",
              "      <td>181.101509</td>\n",
              "      <td>17978.986339</td>\n",
              "      <td>6.546600</td>\n",
              "      <td>310.135738</td>\n",
              "      <td>398.410813</td>\n",
              "      <td>11.558279</td>\n",
              "      <td>31.997993</td>\n",
              "      <td>4.075075</td>\n",
              "      <td>0</td>\n",
              "    </tr>\n",
              "  </tbody>\n",
              "</table>\n",
              "</div>"
            ],
            "text/plain": [
              "         ph    Hardness        Solids  Chloramines     Sulfate  Conductivity  \\\n",
              "0  7.080795  204.890455  20791.318981     7.300212  368.516441    564.308654   \n",
              "1  3.716080  129.422921  18630.057858     6.635246  333.775777    592.885359   \n",
              "2  8.099124  224.236259  19909.541732     9.275884  333.775777    418.606213   \n",
              "3  8.316766  214.373394  22018.417441     8.059332  356.886136    363.266516   \n",
              "4  9.092223  181.101509  17978.986339     6.546600  310.135738    398.410813   \n",
              "\n",
              "   Organic_carbon  Trihalomethanes  Turbidity  Potability  \n",
              "0       10.379783        86.990970   2.963135           0  \n",
              "1       15.180013        56.329076   4.500656           0  \n",
              "2       16.868637        66.420093   3.055934           0  \n",
              "3       18.436524       100.341674   4.628771           0  \n",
              "4       11.558279        31.997993   4.075075           0  "
            ]
          },
          "execution_count": 280,
          "metadata": {},
          "output_type": "execute_result"
        }
      ],
      "source": [
        "# Handle missing values (if any) by replacing them with the mean\n",
        "df.fillna(df.mean(), inplace=True)\n",
        "df.head()"
      ]
    },
    {
      "cell_type": "code",
      "execution_count": 281,
      "metadata": {},
      "outputs": [
        {
          "data": {
            "text/html": [
              "<div>\n",
              "<style scoped>\n",
              "    .dataframe tbody tr th:only-of-type {\n",
              "        vertical-align: middle;\n",
              "    }\n",
              "\n",
              "    .dataframe tbody tr th {\n",
              "        vertical-align: top;\n",
              "    }\n",
              "\n",
              "    .dataframe thead th {\n",
              "        text-align: right;\n",
              "    }\n",
              "</style>\n",
              "<table border=\"1\" class=\"dataframe\">\n",
              "  <thead>\n",
              "    <tr style=\"text-align: right;\">\n",
              "      <th></th>\n",
              "      <th>ph</th>\n",
              "      <th>Hardness</th>\n",
              "      <th>Solids</th>\n",
              "      <th>Chloramines</th>\n",
              "      <th>Sulfate</th>\n",
              "      <th>Conductivity</th>\n",
              "      <th>Organic_carbon</th>\n",
              "      <th>Trihalomethanes</th>\n",
              "      <th>Turbidity</th>\n",
              "      <th>Potability</th>\n",
              "    </tr>\n",
              "  </thead>\n",
              "  <tbody>\n",
              "    <tr>\n",
              "      <th>0</th>\n",
              "      <td>-6.043133e-16</td>\n",
              "      <td>0.259195</td>\n",
              "      <td>-0.139471</td>\n",
              "      <td>0.112415</td>\n",
              "      <td>9.613574e-01</td>\n",
              "      <td>1.708954</td>\n",
              "      <td>-1.180651</td>\n",
              "      <td>1.306149</td>\n",
              "      <td>-1.286298</td>\n",
              "      <td>0</td>\n",
              "    </tr>\n",
              "    <tr>\n",
              "      <th>1</th>\n",
              "      <td>-2.289339e+00</td>\n",
              "      <td>-2.036414</td>\n",
              "      <td>-0.385987</td>\n",
              "      <td>-0.307694</td>\n",
              "      <td>3.145987e-15</td>\n",
              "      <td>2.062575</td>\n",
              "      <td>0.270597</td>\n",
              "      <td>-0.638480</td>\n",
              "      <td>0.684218</td>\n",
              "      <td>0</td>\n",
              "    </tr>\n",
              "    <tr>\n",
              "      <th>2</th>\n",
              "      <td>6.928678e-01</td>\n",
              "      <td>0.847665</td>\n",
              "      <td>-0.240047</td>\n",
              "      <td>1.360594</td>\n",
              "      <td>3.145987e-15</td>\n",
              "      <td>-0.094032</td>\n",
              "      <td>0.781117</td>\n",
              "      <td>0.001509</td>\n",
              "      <td>-1.167365</td>\n",
              "      <td>0</td>\n",
              "    </tr>\n",
              "    <tr>\n",
              "      <th>3</th>\n",
              "      <td>8.409504e-01</td>\n",
              "      <td>0.547651</td>\n",
              "      <td>0.000493</td>\n",
              "      <td>0.592008</td>\n",
              "      <td>6.395190e-01</td>\n",
              "      <td>-0.778830</td>\n",
              "      <td>1.255134</td>\n",
              "      <td>2.152874</td>\n",
              "      <td>0.848412</td>\n",
              "      <td>0</td>\n",
              "    </tr>\n",
              "    <tr>\n",
              "      <th>4</th>\n",
              "      <td>1.368569e+00</td>\n",
              "      <td>-0.464429</td>\n",
              "      <td>-0.460249</td>\n",
              "      <td>-0.363698</td>\n",
              "      <td>-6.541765e-01</td>\n",
              "      <td>-0.343939</td>\n",
              "      <td>-0.824357</td>\n",
              "      <td>-2.181599</td>\n",
              "      <td>0.138786</td>\n",
              "      <td>0</td>\n",
              "    </tr>\n",
              "  </tbody>\n",
              "</table>\n",
              "</div>"
            ],
            "text/plain": [
              "             ph  Hardness    Solids  Chloramines       Sulfate  Conductivity  \\\n",
              "0 -6.043133e-16  0.259195 -0.139471     0.112415  9.613574e-01      1.708954   \n",
              "1 -2.289339e+00 -2.036414 -0.385987    -0.307694  3.145987e-15      2.062575   \n",
              "2  6.928678e-01  0.847665 -0.240047     1.360594  3.145987e-15     -0.094032   \n",
              "3  8.409504e-01  0.547651  0.000493     0.592008  6.395190e-01     -0.778830   \n",
              "4  1.368569e+00 -0.464429 -0.460249    -0.363698 -6.541765e-01     -0.343939   \n",
              "\n",
              "   Organic_carbon  Trihalomethanes  Turbidity  Potability  \n",
              "0       -1.180651         1.306149  -1.286298           0  \n",
              "1        0.270597        -0.638480   0.684218           0  \n",
              "2        0.781117         0.001509  -1.167365           0  \n",
              "3        1.255134         2.152874   0.848412           0  \n",
              "4       -0.824357        -2.181599   0.138786           0  "
            ]
          },
          "execution_count": 281,
          "metadata": {},
          "output_type": "execute_result"
        }
      ],
      "source": [
        "# Normalize the dataset (Check if the column name is not \"Potability\". if not then apply normalization)\n",
        "for col in df.columns:\n",
        "    if col != 'Potability':\n",
        "        df[col] = (df[col] - np.mean(df[col])) / np.std(df[col])\n",
        "df.head()"
      ]
    },
    {
      "cell_type": "markdown",
      "metadata": {},
      "source": [
        "### **Generate Random Test and Train Splits**"
      ]
    },
    {
      "cell_type": "code",
      "execution_count": 282,
      "metadata": {},
      "outputs": [],
      "source": [
        "seed = 420\n",
        "train_fraction = 0.8\n",
        "train = df.sample(frac=train_fraction, random_state=seed)\n",
        "test = df.drop(train.index)"
      ]
    },
    {
      "cell_type": "code",
      "execution_count": 283,
      "metadata": {},
      "outputs": [
        {
          "data": {
            "text/plain": [
              "<bound method DataFrame.info of                 ph  Hardness    Solids  Chloramines       Sulfate  \\\n",
              "2043  3.216080e-02 -0.151140  0.366530    -0.325005 -4.019393e-01   \n",
              "1952 -4.328949e-01 -0.904473  0.324132     1.497359 -1.282986e+00   \n",
              "3236 -1.573976e+00  1.827556  2.964878    -0.852325  3.145987e-15   \n",
              "1434  1.644569e-01 -0.008067 -0.282834    -0.291323 -9.943908e-01   \n",
              "2725  4.763279e-01  0.774911  2.106667    -0.616725 -8.701890e-01   \n",
              "...            ...       ...       ...          ...           ...   \n",
              "861  -6.043133e-16 -0.353426  0.739688    -0.361530 -8.457315e-02   \n",
              "51    4.958983e-01 -2.917494 -1.140673    -1.206665 -2.395736e+00   \n",
              "1673  5.413918e-01  1.658633 -0.715506     0.602373  3.145987e-15   \n",
              "1018 -7.264140e-01  0.683618 -0.050226     1.373209 -3.488787e-01   \n",
              "362  -1.390345e-01 -0.168062 -0.003999    -0.942430  8.317196e-01   \n",
              "\n",
              "      Conductivity  Organic_carbon  Trihalomethanes  Turbidity  Potability  \n",
              "2043     -0.085385       -0.429187         0.765639   0.696956           1  \n",
              "1952      0.659240       -1.084726        -0.046993  -0.531719           1  \n",
              "3236      2.032186        0.682232        -1.360884  -0.094082           1  \n",
              "1434     -0.100599        0.869739         0.194772  -1.262570           0  \n",
              "2725      1.701670       -0.765474        -0.940977   0.814136           1  \n",
              "...            ...             ...              ...        ...         ...  \n",
              "861      -0.553181       -0.979716        -0.277880  -0.722213           0  \n",
              "51        2.215211       -1.412970        -0.019795  -1.947217           0  \n",
              "1673     -0.432441        0.682930        -0.453478  -0.067774           0  \n",
              "1018      0.223625        0.138883        -0.250709  -0.655117           0  \n",
              "362      -0.953067       -1.430994         0.127767   0.741487           1  \n",
              "\n",
              "[2621 rows x 10 columns]>"
            ]
          },
          "execution_count": 283,
          "metadata": {},
          "output_type": "execute_result"
        }
      ],
      "source": [
        "train.info"
      ]
    },
    {
      "cell_type": "code",
      "execution_count": 284,
      "metadata": {},
      "outputs": [
        {
          "data": {
            "text/plain": [
              "<bound method DataFrame.info of                 ph  Hardness    Solids  Chloramines       Sulfate  \\\n",
              "2     6.928678e-01  0.847665 -0.240047     1.360594  3.145987e-15   \n",
              "3     8.409504e-01  0.547651  0.000493     0.592008  6.395190e-01   \n",
              "5    -1.018355e+00 -0.245057  0.768155     0.266983 -1.964024e-01   \n",
              "15   -4.990862e-01 -0.293131  2.172994     1.584061  8.498721e-01   \n",
              "18    1.289126e+00  2.524360 -0.291277    -0.579941  3.145987e-15   \n",
              "...            ...       ...       ...          ...           ...   \n",
              "3257 -2.704077e-01  2.303963 -0.345009    -1.128397  7.691054e-02   \n",
              "3260 -6.043133e-16 -1.874772 -1.484399     1.202909  3.145987e-15   \n",
              "3262  8.826874e-01  0.065148  0.736847    -0.407634 -3.956762e-01   \n",
              "3265  7.597026e-01  0.204887  0.648745    -0.410251 -1.352887e-01   \n",
              "3274 -1.329516e+00  1.041355 -1.144058    -0.517373  3.145987e-15   \n",
              "\n",
              "      Conductivity  Organic_carbon  Trihalomethanes  Turbidity  Potability  \n",
              "2        -0.094032        0.781117         0.001509  -1.167365           0  \n",
              "3        -0.778830        1.255134         2.152874   0.848412           0  \n",
              "5        -1.803416       -1.779276        -0.727982  -1.803337           0  \n",
              "15        1.120359       -0.829950         0.550204   0.524902           0  \n",
              "18        0.064828       -0.422115        -0.163314  -1.961774           0  \n",
              "...            ...             ...              ...        ...         ...  \n",
              "3257     -1.466125        1.781849         0.571174   1.590841           1  \n",
              "3260      0.024859       -1.697969         0.531290  -0.342485           1  \n",
              "3262      0.911525        0.333805        -1.977177   0.715024           1  \n",
              "3265      0.227784       -0.010308        -0.221347  -0.775319           1  \n",
              "3274     -0.288597       -0.942064         0.703468   0.950797           1  \n",
              "\n",
              "[655 rows x 10 columns]>"
            ]
          },
          "execution_count": 284,
          "metadata": {},
          "output_type": "execute_result"
        }
      ],
      "source": [
        "test.info"
      ]
    },
    {
      "cell_type": "code",
      "execution_count": 285,
      "metadata": {},
      "outputs": [],
      "source": [
        "# Assuming 'Potability' is the column you want to predict\n",
        "X_train = train.drop('Potability', axis=1)  # Features for training\n",
        "y_train = train['Potability']  # Target for training\n",
        "\n",
        "X_test = test.drop('Potability', axis=1)  # Features for testing\n",
        "y_test = test['Potability']  # Target for testing\n",
        "\n",
        "# Convert labels to numpy array for applying ML Models\n",
        "y_train = y_train.to_numpy()\n",
        "y_test = y_test.to_numpy()"
      ]
    },
    {
      "cell_type": "code",
      "execution_count": 286,
      "metadata": {},
      "outputs": [],
      "source": [
        "# Compute Accuracy of the model\n",
        "accuracies = []\n",
        "\n",
        "def accuracy(pred, y_test):\n",
        "\treturn 100*(pred==y_test).mean()"
      ]
    },
    {
      "cell_type": "markdown",
      "metadata": {
        "id": "rDu7bwbNRhaK"
      },
      "source": [
        "# ***2. ML Model 1: Perceptron***"
      ]
    },
    {
      "cell_type": "code",
      "execution_count": 287,
      "metadata": {
        "id": "oAd4cNwERr90"
      },
      "outputs": [
        {
          "name": "stdout",
          "output_type": "stream",
          "text": [
            "Accuracy: 53.58778625954198\n"
          ]
        }
      ],
      "source": [
        "# Implementing Perceptron\n",
        "class Perceptron:\n",
        "    def __init__(self, learning_rate=0.01, epochs=100):\n",
        "        self.learning_rate = learning_rate\n",
        "        self.epochs = epochs\n",
        "        self.weights = None\n",
        "        self.bias = None\n",
        "\n",
        "    def train(self, X, y):\n",
        "        # Initialize weights and bias\n",
        "        self.weights = np.zeros(X.shape[1])\n",
        "        self.bias = 0\n",
        "\n",
        "        for epoch in range(self.epochs):\n",
        "            for xi, target in zip(X, y):\n",
        "                # Calculate the predicted value\n",
        "                predicted = self.predict(xi)\n",
        "                \n",
        "                # Update weights and bias based on the perceptron learning rule\n",
        "                update = self.learning_rate * (target - predicted)\n",
        "                self.weights += update * xi\n",
        "                self.bias += update\n",
        "\n",
        "    def predict(self, X):\n",
        "        # Calculate the dot product of weights and input features, add bias, and apply the step function\n",
        "        return np.where(np.dot(X, self.weights) + self.bias > 0, 1, 0)\n",
        "\n",
        "\n",
        "# Instantiate the Perceptron model\n",
        "perceptron_model = Perceptron(learning_rate=0.01, epochs=100)\n",
        "\n",
        "# Train the model\n",
        "perceptron_model.train(X_train.values, y_train)\n",
        "\n",
        "# Make predictions on the test set\n",
        "predictions = perceptron_model.predict(X_test.values)\n",
        "\n",
        "# Evaluate the accuracy of the model\n",
        "acc = np.mean(predictions == y_test)\n",
        "accuracies.append(acc)\n",
        "print(\"Accuracy:\", acc*100)\n"
      ]
    },
    {
      "cell_type": "markdown",
      "metadata": {
        "id": "y81SQxOrRso5"
      },
      "source": [
        "# ***3. ML Model 2: Fisher Discriminant***\n",
        "\n"
      ]
    },
    {
      "cell_type": "code",
      "execution_count": 288,
      "metadata": {
        "id": "OQ8CVHsER-Mh"
      },
      "outputs": [
        {
          "data": {
            "text/plain": [
              "55.87786259541985"
            ]
          },
          "execution_count": 288,
          "metadata": {},
          "output_type": "execute_result"
        }
      ],
      "source": [
        "class FisherLinearDiscriminant:\n",
        "    def __init__(self):\n",
        "        self.w = None\n",
        "\n",
        "    def train(self, X, y):\n",
        "        unique_classes = np.unique(y)\n",
        "        n_features = X.shape[1]\n",
        "\n",
        "        # Calculate the mean for each class\n",
        "        class_means = [np.mean(X[y == cls], axis=0) for cls in unique_classes]\n",
        "\n",
        "        # Calculate the overall mean\n",
        "        overall_mean = np.mean(X, axis=0)\n",
        "\n",
        "        # Calculate between-class scatter matrix and within-class scatter matrix\n",
        "        S_B = np.zeros((n_features, n_features))\n",
        "        S_W = np.zeros((n_features, n_features))\n",
        "\n",
        "        for i, cls in enumerate(unique_classes):\n",
        "            n = np.sum(y == cls)\n",
        "            mean_diff = class_means[i] - overall_mean\n",
        "\n",
        "            S_B += n * np.outer(mean_diff, mean_diff)\n",
        "\n",
        "            class_scatter = np.cov(X[y == cls], rowvar=False)\n",
        "            S_W += (n - 1) * class_scatter\n",
        "\n",
        "        # Solving the eigenvalue problem to find w\n",
        "        eigenvalues, eigenvectors = np.linalg.eigh(np.linalg.inv(S_W).dot(S_B))\n",
        "        \n",
        "        # Sorting eigenvalues and eigenvectors in descending order\n",
        "        idx = np.argsort(eigenvalues)[::-1]\n",
        "        eigenvalues = eigenvalues[idx]\n",
        "        eigenvectors = eigenvectors[:, idx]\n",
        "\n",
        "        # Top eigenvalue is chosen as the discriminant direcetion\n",
        "        self.w = eigenvectors[:, 0]\n",
        "\n",
        "    def predict(self, X):\n",
        "        # Project data onto the discriminant direction\n",
        "        projections = X.dot(self.w)\n",
        "\n",
        "        # Threshold for binary classification\n",
        "        threshold = np.median(projections)\n",
        "\n",
        "        # Classify based on the projection\n",
        "        predictions = np.where(projections > threshold, 1, 0)\n",
        "\n",
        "        return predictions\n",
        "        \n",
        "flda =  FisherLinearDiscriminant()\n",
        "flda.train(X_train, y_train)\n",
        "\n",
        "y_pred= flda.predict(X_test)\n",
        "\n",
        "# Evaluate the accuracy of the model\n",
        "acc = accuracy(y_pred,y_test)\n",
        "accuracies.append(acc)\n",
        "acc\n"
      ]
    },
    {
      "cell_type": "markdown",
      "metadata": {
        "id": "HqIC34nWR-n7"
      },
      "source": [
        "# ***4. ML Model 3: KNN***"
      ]
    },
    {
      "cell_type": "code",
      "execution_count": 289,
      "metadata": {
        "id": "-hA5FysjSBzj"
      },
      "outputs": [
        {
          "name": "stdout",
          "output_type": "stream",
          "text": [
            "55.254835867494855\n",
            "\n",
            "\n",
            "56.442644107206185\n",
            "\n",
            "\n",
            "58.18834565987518\n",
            "\n",
            "\n",
            "54.56496386123592\n",
            "\n",
            "\n",
            "55.556449224762275\n",
            "\n",
            "\n"
          ]
        },
        {
          "data": {
            "image/png": "[encoded data removed]",
            "text/plain": [
              "<Figure size 640x480 with 1 Axes>"
            ]
          },
          "metadata": {},
          "output_type": "display_data"
        },
        {
          "data": {
            "text/plain": [
              "51.45038167938931"
            ]
          },
          "execution_count": 289,
          "metadata": {},
          "output_type": "execute_result"
        }
      ],
      "source": [
        "class kNN():\n",
        "  def __init__(self, k = 3, metric = 'euclidean', p=None):\n",
        "    self.k = k\n",
        "    self.metric = metric\n",
        "    self.p = p\n",
        "\n",
        "  def euclid(self, pt1, pt2):\n",
        "    return np.sqrt(np.sum(pt1 - pt2)**2)\n",
        "\n",
        "  def manhat(self, pt1, pt2):\n",
        "    return np.sum(np.abs(pt1-pt2))\n",
        "\n",
        "  def minkowski(self, pt1, pt2):\n",
        "    return np.sum(np.abs(pt1-pt2)**self.p)**(1/self.p)\n",
        "\n",
        "  def fit(self, X_train, y_train):\n",
        "    self.X_train = X_train\n",
        "    self.y_train = y_train\n",
        "\n",
        "  def predict(self, X_test):\n",
        "    pred = []\n",
        "\n",
        "    for row in X_test:\n",
        "      near_neighbours = self.get_neighbours(row)\n",
        "      majority = self.maj(near_neighbours)\n",
        "      pred.append(majority)\n",
        "    return np.array(pred)\n",
        "\n",
        "  def get_neighbours(self, test_row):\n",
        "    distances = list()\n",
        "\n",
        "    for (train_row, train_class) in zip(self.X_train, self.y_train):\n",
        "      if self.metric == 'euclidean':\n",
        "        dist = self.euclid(train_row, test_row)\n",
        "      elif self.metric == 'manhattan':\n",
        "        dist = self.manhat(train_row, test_row)\n",
        "      elif self.metric == 'minkowski':\n",
        "        dist = self.minkowski(train_row, test_row)\n",
        "      else:\n",
        "        raise NameError('Not written the supported metrics')\n",
        "      distances.append((dist, train_class))\n",
        "\n",
        "    distances.sort(key = lambda x: x[0])\n",
        "\n",
        "    neighbours = list()\n",
        "    for i in range(self.k):\n",
        "      neighbours.append(distances[i][1])\n",
        "\n",
        "    return neighbours\n",
        "\n",
        "  def maj(self, near_neighbours):\n",
        "    pos_class = 0\n",
        "    neg_class = 0\n",
        "    for i in near_neighbours:\n",
        "      if i == 1:\n",
        "        pos_class = pos_class + 1\n",
        "      else:\n",
        "        neg_class = neg_class + 1\n",
        "\n",
        "    if pos_class >= neg_class:\n",
        "      return 1\n",
        "    else:\n",
        "      return 0\n",
        "\n",
        "class CrossValidation:\n",
        "  def fitcross(self, X_train, y_train):\n",
        "    self.X_train = X_train\n",
        "    self.y_train = y_train\n",
        "\n",
        "  def findK(self):\n",
        "      X = self.X_train\n",
        "      y = self.y_train\n",
        "\n",
        "      no_rows = y.shape[0]\n",
        "      max_k = round(np.sqrt(round(no_rows)) / 5)\n",
        "      # We will be using 5-fold validation\n",
        "      interval = int(no_rows / 5)\n",
        "      # print(max_k)\n",
        "      fold1_x = X.iloc[0 : interval - 1]\n",
        "      fold2_x = X.iloc[interval : 2*interval - 1]\n",
        "      fold3_x = X.iloc[2*interval : 3*interval - 1]\n",
        "      fold4_x = X.iloc[3*interval : 4*interval - 1]\n",
        "      fold5_x = X.iloc[4*interval : 5*interval - 1]\n",
        "\n",
        "      fold1_y = y.iloc[0 : interval - 1]\n",
        "      fold2_y = y.iloc[interval : 2*interval - 1]\n",
        "      fold3_y = y.iloc[2*interval : 3*interval - 1]\n",
        "      fold4_y = y.iloc[3*interval : 4*interval - 1]\n",
        "      fold5_y = y.iloc[4*interval : 5*interval - 1]\n",
        "\n",
        "      train_val1_x = pd.concat([fold1_x, fold2_x, fold3_x, fold4_x])\n",
        "      test_val1_x = fold5_x\n",
        "      train_val1_x.head()\n",
        "      train_val2_x = pd.concat([fold1_x, fold2_x, fold3_x, fold5_x])\n",
        "      test_val2_x = fold4_x\n",
        "\n",
        "      train_val3_x = pd.concat([fold1_x, fold2_x, fold4_x, fold5_x])\n",
        "      test_val3_x = fold3_x\n",
        "\n",
        "      train_val4_x = pd.concat([fold1_x, fold3_x, fold4_x, fold5_x])\n",
        "      test_val4_x = fold2_x\n",
        "\n",
        "      train_val5_x = pd.concat([fold2_x, fold3_x, fold4_x, fold5_x])\n",
        "      test_val5_x = fold1_x\n",
        "\n",
        "      train_val1_y = pd.concat([fold1_y, fold2_y, fold3_y, fold4_y])\n",
        "      test_val1_y = fold5_y\n",
        "\n",
        "      train_val2_y = pd.concat([fold1_y, fold2_y, fold3_y, fold5_y])\n",
        "      test_val2_y = fold4_y\n",
        "\n",
        "      train_val3_y = pd.concat([fold1_y, fold2_y, fold4_y, fold5_y])\n",
        "      test_val3_y = fold3_y\n",
        "\n",
        "      train_val4_y = pd.concat([fold1_y, fold3_y, fold4_y, fold5_y])\n",
        "      test_val4_y = fold2_y\n",
        "\n",
        "      train_val5_y = pd.concat([fold2_y, fold3_y, fold4_y, fold5_y])\n",
        "      test_val5_y = fold1_y\n",
        "\n",
        "      accuracy_values1 = []\n",
        "      k_values1 = []\n",
        "\n",
        "      k1 = 0\n",
        "      max_acc = 0\n",
        "      for i in range(2, max_k):\n",
        "        clf = kNN(i, metric = 'euclidean')\n",
        "        clf.fit(train_val1_x.values, train_val1_y.values)\n",
        "        preds = clf.predict(test_val1_x.values)\n",
        "        acc = accuracy(preds, test_val1_y.values)\n",
        "        # print(acc)\n",
        "        accuracy_values1.append(acc)\n",
        "        k_values1.append(i)\n",
        "        if acc > max_acc:\n",
        "          max_k1 = i\n",
        "          max_acc = acc\n",
        "      print(max_acc)\n",
        "\n",
        "      accuracy_values2 = []\n",
        "      k_values2 = []\n",
        "      print('\\n')\n",
        "      k2 = 0\n",
        "      max_acc = 0\n",
        "      for i in range(2, max_k):\n",
        "        clf = kNN(i, metric = 'euclidean')\n",
        "        clf.fit(train_val2_x.values, train_val2_y.values)\n",
        "        preds = clf.predict(test_val2_x.values)\n",
        "        acc = accuracy(preds, test_val2_y.values)\n",
        "        accuracy_values2.append(acc)\n",
        "        k_values2.append(i)\n",
        "        # print(acc)\n",
        "        if acc > max_acc:\n",
        "          max_k2 = i\n",
        "          max_acc = acc\n",
        "      print(max_acc)\n",
        "\n",
        "\n",
        "      accuracy_values3 = []\n",
        "      k_values3 = []\n",
        "      print('\\n')\n",
        "      k3 = 0\n",
        "      max_acc = 0\n",
        "      for i in range(2, max_k):\n",
        "        clf = kNN(i, metric = 'euclidean')\n",
        "        clf.fit(train_val3_x.values, train_val3_y.values)\n",
        "        preds = clf.predict(test_val3_x.values)\n",
        "        acc = accuracy(preds, test_val3_y.values)\n",
        "        accuracy_values3.append(acc)\n",
        "        k_values3.append(i)\n",
        "        # print(acc)\n",
        "        if acc > max_acc:\n",
        "          max_k3 = i\n",
        "          max_acc = acc\n",
        "      print(max_acc)\n",
        "\n",
        "      accuracy_values4 = []\n",
        "      k_values4 = []\n",
        "      print('\\n')\n",
        "      k4 = 0\n",
        "      max_acc = 0\n",
        "      for i in range(2, max_k):\n",
        "        clf = kNN(i, metric = 'euclidean')\n",
        "        clf.fit(train_val4_x.values, train_val4_y.values)\n",
        "        preds = clf.predict(test_val4_x.values)\n",
        "        acc = accuracy(preds, test_val4_y.values)\n",
        "        accuracy_values4.append(acc)\n",
        "        k_values4.append(i)\n",
        "        # print(acc)\n",
        "        if acc > max_acc:\n",
        "          max_k4 = i\n",
        "          max_acc = acc\n",
        "      print(max_acc)\n",
        "\n",
        "      accuracy_values5 = []\n",
        "      k_values5 = []\n",
        "      print('\\n')\n",
        "      k5 = 0\n",
        "      max_acc = 0\n",
        "      for i in range(2, max_k):\n",
        "        clf = kNN(i, metric = 'euclidean')\n",
        "        clf.fit(train_val5_x.values, train_val5_y.values)\n",
        "        preds = clf.predict(test_val5_x.values)\n",
        "        acc = accuracy(preds, test_val5_y.values)\n",
        "        accuracy_values5.append(acc)\n",
        "        k_values5.append(i)\n",
        "        # print(acc)\n",
        "        if acc > max_acc:\n",
        "          max_k5 = i\n",
        "          max_acc = acc\n",
        "      print(max_acc)\n",
        "      print('\\n')\n",
        "\n",
        "      plt.plot(k_values1, accuracy_values1, marker='o', label='Graph 1')\n",
        "      plt.plot(k_values2, accuracy_values2, marker='o', label='Graph 2')\n",
        "      plt.plot(k_values3, accuracy_values3, marker='o', label='Graph 3')\n",
        "      plt.plot(k_values4, accuracy_values4, marker='o', label='Graph 4')\n",
        "      plt.plot(k_values5, accuracy_values5, marker='o', label='Graph 5')\n",
        "      plt.title('Accuracy vs. k Value')\n",
        "      plt.xlabel('k Value')\n",
        "      plt.ylabel('Accuracy')\n",
        "      plt.legend()\n",
        "      plt.show()\n",
        "      max_k_arr = [0] * max_k\n",
        "\n",
        "      max_value = max(k_values1)\n",
        "      max_index = k_values1.index(max_value)\n",
        "      max_k_arr[max_index] = max_k_arr[max_index] + 1 \n",
        "\n",
        "      max_value = max(k_values2)\n",
        "      max_index = k_values2.index(max_value)\n",
        "      max_k_arr[max_index] = max_k_arr[max_index] + 1\n",
        "\n",
        "      max_value = max(k_values3)\n",
        "      max_index = k_values3.index(max_value)\n",
        "      max_k_arr[max_index] = max_k_arr[max_index] + 1\n",
        "\n",
        "      max_value = max(k_values4)\n",
        "      max_index = k_values4.index(max_value)\n",
        "      max_k_arr[max_index] = max_k_arr[max_index] + 1\n",
        "\n",
        "      max_value = max(k_values5)\n",
        "      max_index = k_values5.index(max_value)\n",
        "      max_k_arr[max_index] = max_k_arr[max_index] + 1\n",
        "\n",
        "      max_value = max(max_k_arr)\n",
        "      k_mean = max_k_arr.index(max_value)\n",
        "\n",
        "      return k_mean+1\n",
        "    \n",
        "cv = CrossValidation()\n",
        "y_tr = pd.DataFrame(y_train)\n",
        "y_te = pd.DataFrame(y_test)\n",
        "cv.fitcross(X_train, y_tr)\n",
        "kval = cv.findK()\n",
        "\n",
        "clf = kNN(k = kval, metric = 'euclidean')\n",
        "clf.fit(X_train.values, y_tr.values)\n",
        "preds = clf.predict(X_test.values)\n",
        "acc = accuracy(preds, y_test)\n",
        "accuracies.append(acc)\n",
        "acc"
      ]
    },
    {
      "cell_type": "markdown",
      "metadata": {
        "id": "8g7NxS5sSCRv"
      },
      "source": [
        "# ***5. ML Model 4 (Based on research literature): QDA***"
      ]
    },
    {
      "cell_type": "code",
      "execution_count": 290,
      "metadata": {
        "id": "Pw63z3amSSo_"
      },
      "outputs": [
        {
          "data": {
            "text/plain": [
              "58.778625954198475"
            ]
          },
          "execution_count": 290,
          "metadata": {},
          "output_type": "execute_result"
        }
      ],
      "source": [
        "from numpy.linalg import multi_dot\n",
        "from numpy.linalg import inv\n",
        "from numpy.linalg import det\n",
        "\n",
        "def QDA_classifier(X,estimates):\n",
        "\t\"\"\"\n",
        "\tA function to return LDA classification output for a given X\n",
        "\tWe won't use a vectorized implementation here because it complicates\n",
        "\tthings when dealing with the dimensions of the matrix \n",
        "\t@ X: input training data\n",
        "\t@ estimates: list of tuples that contain parameter estimates\n",
        "\ttuples are in the form (class,pi,mean,variance)\n",
        "\t\"\"\"\n",
        "\n",
        "\t# list of column vectors that contain bayes (log) probabilities for each class\n",
        "\t# we will eventually concatenate the output and predict the class that\n",
        "\t# has the highest probability\n",
        "\n",
        "\tbayes_probabilities = []\n",
        "\n",
        "\t# iterate through all estimates (which represents estimate for each class)\n",
        "\t# recall that each estimate is in in the form (class,pi,mean,variance)\n",
        "\n",
        "\tfor estimate in estimates:\n",
        "\t\tpi = estimate[1]\n",
        "\t\tmean = estimate[2]\n",
        "\t\tvariance = estimate[3]\n",
        "\t\tlog_variance = np.log(variance)\n",
        "\t\t# variance inverse \n",
        "\t\tsigma_inv = inv(log_variance)\n",
        "\n",
        "\t\t# use a for loop and add the bayes probabilities one by one\n",
        "\t\t# bayes_probs represents a single column vector\n",
        "\t\tbayes_probs = []\n",
        "\t\t# print(X.head())\n",
        "\t\tfor row in X.to_numpy():\n",
        "\t\t\t# make it a column vector\n",
        "\t\t\t# print(row)\n",
        "\t\t\tx = row.reshape(-1,1)\n",
        "\t\t\t# calculate bayes prob for one entry\n",
        "\t\t\t# using the QDA formula\n",
        "\t\t\tbayes_prob = (-.5 * multi_dot([(x-mean).T,(sigma_inv),(x-mean)])[0][0]) - (.5 * np.log(det(log_variance))) + np.log(pi)\n",
        "\n",
        "\t\t\tbayes_probs.append(bayes_prob)\n",
        "\n",
        "\t\tbayes_probabilities.append(np.array(bayes_probs).reshape(-1,1))\n",
        "\n",
        "\t# now we will concatenate the probabilities for each class\n",
        "\t# and take the argmax, to find the index that had the highest\n",
        "\t# log probability.\n",
        "\n",
        "\t# for example, if the 3rd log probability (at index 2) of the first row \n",
        "\t# was the highest, then the first entry of this array will contain a '2'\n",
        "\n",
        "\tindices_of_highest_prob = np.argmax(np.concatenate(bayes_probabilities,axis=1),axis=1)\n",
        "\n",
        "\t# now predict the class based on the index of the highest log probability.\n",
        "\t# for example, if the index was '1', this means that the log probability was\n",
        "\t# highest for the second set of estimates, and so we predict the class assigned\n",
        "\t# to that estimate (this is why we included the class in the tuple!)\n",
        "\n",
        "\tdef predict_class(index):\n",
        "\t\t# the class is in the 0th index of the tuple\n",
        "\t\treturn estimates[index][0]\n",
        "\n",
        "\t# create a function that does this to a vector\n",
        "\tpredict_class_vec = np.vectorize(predict_class)\n",
        "\n",
        "\n",
        "\tpredictions = predict_class_vec(indices_of_highest_prob)\n",
        "\n",
        "\treturn predictions\n",
        "\n",
        "def compute_estimates(X_train,y_train):\n",
        "\t\"\"\" Function to compute estimates for a QDA classifier\"\"\"\n",
        "\t# get a list of the different classes\n",
        "\tclasses = list(np.unique(y_train))\n",
        "\n",
        "\t# list of tuples that contain estimates for each class\n",
        "\t# tuple is in the form (class,pi,mean,variance)\n",
        "\testimates = []\n",
        "\n",
        "\tfor c in classes:\n",
        "\t\t# have it as a list originally,\n",
        "\t\t# then turn it into a tuple\n",
        "\t\testimate = []\n",
        "\n",
        "\t\t# add the class as the first element of the tuple\n",
        "\t\testimate.append(c)\n",
        "\n",
        "\t\t# first we want to subset the data for that particular class\n",
        "\t\t# get the indices of the rows for this particular class\n",
        "\t\t# Convert the indices to a NumPy array\n",
        "\t\tindices_of_rows = np.where(np.isin(y_train, c))[0]\n",
        "\n",
        "\t\t# Use iloc to index the DataFrame based on the NumPy array of indices\n",
        "\t\tX_train_subset = X_train.iloc[indices_of_rows].values\n",
        "\n",
        "\t\tpi = float(len(X_train_subset))/float(len(X_train))\n",
        "\t\testimate.append(pi)\n",
        "\n",
        "\t\t# reshape makes it a proper column vector\n",
        "\t\tmean = (np.sum(X_train_subset, axis=0) / float(len(X_train_subset))).reshape(-1, 1)\n",
        "\t\testimate.append(mean)\n",
        "\t\t\n",
        "\t\tdef take_cov(row,mean):\n",
        "\t\t\t\"\"\" \n",
        "\t\t\tFunction that takes in an observation and the mean\n",
        "\t\t\t@row: observation vector (not reshaped yet)\n",
        "\t\t\t@mean: mean vector that HAS BEEN RESHAPED\n",
        "\t\t\t\"\"\"\n",
        "\n",
        "\t\t\treturn (row.reshape(-1,1) - mean).dot((row.reshape(-1,1) - mean).T)\n",
        "\n",
        "\t\t# do a list comprehension to sum over individual variances\n",
        "\t\t# to get a variance vector \n",
        "\t\tvariance = (1./(len(X_train_subset) - len(classes))) * (sum([take_cov(row,mean) for row in X_train_subset]))\n",
        "\t\testimate.append(variance)\n",
        "\t\testimates.append(tuple(estimate))\n",
        "\n",
        "\treturn estimates\n",
        "\n",
        "import warnings\n",
        "warnings.filterwarnings(\"ignore\")\n",
        "\n",
        "y_tr = pd.DataFrame(y_train)\n",
        "y_te = pd.DataFrame(y_test)\n",
        "\n",
        "QDA_estimates_train = compute_estimates(X_train,y_tr)\n",
        "y_train_pred = QDA_classifier(X_train,QDA_estimates_train)\n",
        "\n",
        "\n",
        "QDA_estimates_test = compute_estimates(X_test,y_te)\n",
        "y_test_pred = QDA_classifier(X_test, QDA_estimates_test)\n",
        "\n",
        "acc = accuracy(y_test_pred, y_te.values)\n",
        "accuracies.append(acc)\n",
        "acc"
      ]
    },
    {
      "cell_type": "markdown",
      "metadata": {
        "id": "2p-mPVFCSe9V"
      },
      "source": [
        "# ***6. Comparison of insights drawn from the models***"
      ]
    },
    {
      "cell_type": "code",
      "execution_count": 291,
      "metadata": {
        "id": "LTjoKWdNSpcE"
      },
      "outputs": [
        {
          "name": "stdout",
          "output_type": "stream",
          "text": [
            "[0.5358778625954198, 55.87786259541985, 51.45038167938931, 58.778625954198475]\n"
          ]
        },
        {
          "data": {
            "image/png": "[encoded data removed]",
            "text/plain": [
              "<Figure size 640x480 with 1 Axes>"
            ]
          },
          "metadata": {},
          "output_type": "display_data"
        }
      ],
      "source": [
        "models = [\"Perceptron\", \"Fischer\", \"kNN\", \"QDA\"]\n",
        "\n",
        "print(accuracies)\n",
        "\n",
        "plt.bar(models, accuracies, color='blue')\n",
        "plt.xlabel('Algorithms')\n",
        "plt.ylabel('Accuracy')\n",
        "plt.title('Accuracy for each algorithm')\n",
        "plt.xticks(rotation=45, ha='right')  # Rotate the labels for better visibility\n",
        "plt.show()"
      ]
    },
    {
      "cell_type": "markdown",
      "metadata": {},
      "source": [
        "### **Accuracy Comparison**\n",
        "The accuracy of different models on the test set is as follows:\n",
        "\n",
        "#### **Perceptron: 53.59%**\n",
        "#### **Fisher Linear Discriminant: 55.88%**\n",
        "#### **k-Nearest Neighbors (kNN): 51.45%**\n",
        "#### **Quadratic Discriminant Analysis (QDA): 58.78%**\n",
        "#### **Based on accuracy alone, QDA achieved the highest accuracy on the test set among the considered models.**\n",
        "\n",
        "Algorithm-Specific Insights:\n",
        "#### **1. Perceptron:**\n",
        "The perceptron is a simple linear classifier. It performs adequately, but its simplicity might limit its ability to capture complex patterns in the data. It may struggle when the decision boundary is not linear.\n",
        "\n",
        "#### **2. Fisher Linear Discriminant:**\n",
        "The Fisher Linear Discriminant aims to find the linear combination of features that best separates the classes. It has shown improved accuracy compared to the perceptron, indicating that it captures more discriminative information from the data.\n",
        "\n",
        "#### **3. k-Nearest Neighbors (kNN):**\n",
        "kNN is a non-parametric and instance-based learning algorithm. It considers the local neighborhood of a data point to make predictions. The relatively lower accuracy might be due to sensitivity to irrelevant or noisy features, especially in high-dimensional spaces.\n",
        "\n",
        "#### **4. Quadratic Discriminant Analysis (QDA):**\n",
        "QDA is a probabilistic model that allows for non-linear decision boundaries. It has demonstrated the highest accuracy among the considered models. QDA may be more suitable when the underlying data distribution is non-linear.\n",
        "\n",
        "#### **Overall Conclusion:**\n",
        "QDA outperforms other models in terms of accuracy, suggesting its suitability for this classification task.\n",
        "Consideration of Data Complexity: The decision to choose a model should consider the complexity of the underlying data distribution. More complex models like QDA and Fisher Linear Discriminant seem to perform well in this scenario.\n",
        "Hyperparameter Tuning: For kNN, the choice of k (number of neighbors) significantly impacts performance. A systematic search for the optimal k value may further improve its accuracy.\n",
        "This comparison provides insights into the strengths and limitations of each model, aiding in the selection of the most appropriate algorithm for the given classification task."
      ]
    },
    {
      "cell_type": "markdown",
      "metadata": {
        "id": "81SwQ_y4TaSc"
      },
      "source": [
        "# **_7. References_**\n",
        "\n",
        "1.   Dataset Description - https://www.hindawi.com/journals/cin/2022/9283293/\n",
        "2.   EDA and Data Cleaning - https://www.kaggle.com/code/charmainechiam/dealing-with-missing-values-in-data-preparation\n",
        "\n"
      ]
    }
  ],
  "metadata": {
    "colab": {
      "provenance": []
    },
    "kernelspec": {
      "display_name": "Python 3",
      "name": "python3"
    },
    "language_info": {
      "codemirror_mode": {
        "name": "ipython",
        "version": 3
      },
      "file_extension": ".py",
      "mimetype": "text/x-python",
      "name": "python",
      "nbconvert_exporter": "python",
      "pygments_lexer": "ipython3",
      "version": "3.12.0"
    }
  },
  "nbformat": 4,
  "nbformat_minor": 0
}
