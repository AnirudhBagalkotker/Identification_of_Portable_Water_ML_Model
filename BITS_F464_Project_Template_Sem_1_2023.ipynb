{
  "cells": [
    {
      "cell_type": "markdown",
      "metadata": {
        "id": "Vj_r89FzT41w"
      },
      "source": [
        "##**BITS F464 - Semester 1 - MACHINE LEARNING**\n",
        "--------------------------------------------------------------------------------\n",
        "\n",
        "**PROJECT - MACHINE LEARNING FOR SUSTAINABLE DEVELOPMENT GOALS (SDGs)**\n",
        "--------------------------------------------------------------------------------\n",
        "***Team number: 13***\n",
        "\n",
        "---\n",
        "(*In Title case, separated with commas*)\n",
        "***Full names of all students in the team: ANIRUDH BAGALKOTKER, KARTIK PANDEY, ADWAIT KULKARNI, JOY SINHA***\n",
        "\n",
        "---\n",
        "(*Separated by commas*)\n",
        "***Id number of all students in the team: 2021A7PS2682H, 2021A7PS2574H, 2021A7PS2995H, 2021A8PS1606H***\n"
      ]
    },
    {
      "cell_type": "markdown",
      "metadata": {
        "id": "Z_duS0Zn17c3"
      },
      "source": [
        "Please refer to the email providing the assignment of project and follow the instructions provided in the project brief.\n"
      ]
    },
    {
      "cell_type": "markdown",
      "metadata": {
        "id": "yT-dTtra2h2n"
      },
      "source": [
        "# **_1. Preprocessing of Dataset_**"
      ]
    },
    {
      "cell_type": "markdown",
      "metadata": {
        "id": "2UsOVUj22wrz"
      },
      "source": [
        "### The respective dataset has been shared in the project brief. Please refer to it."
      ]
    },
    {
      "cell_type": "markdown",
      "metadata": {},
      "source": [
        "### **Import Dependencies and Load Dataset**"
      ]
    },
    {
      "cell_type": "code",
      "execution_count": 23,
      "metadata": {},
      "outputs": [],
      "source": [
        "import numpy as np\n",
        "import pandas as pd\n",
        "import matplotlib.pyplot as plt"
      ]
    },
    {
      "cell_type": "code",
      "execution_count": 24,
      "metadata": {
        "id": "N8uONwSjNSc-"
      },
      "outputs": [
        {
          "data": {
            "text/html": [
              "<div>\n",
              "<style scoped>\n",
              "    .dataframe tbody tr th:only-of-type {\n",
              "        vertical-align: middle;\n",
              "    }\n",
              "\n",
              "    .dataframe tbody tr th {\n",
              "        vertical-align: top;\n",
              "    }\n",
              "\n",
              "    .dataframe thead th {\n",
              "        text-align: right;\n",
              "    }\n",
              "</style>\n",
              "<table border=\"1\" class=\"dataframe\">\n",
              "  <thead>\n",
              "    <tr style=\"text-align: right;\">\n",
              "      <th></th>\n",
              "      <th>ph</th>\n",
              "      <th>Hardness</th>\n",
              "      <th>Solids</th>\n",
              "      <th>Chloramines</th>\n",
              "      <th>Sulfate</th>\n",
              "      <th>Conductivity</th>\n",
              "      <th>Organic_carbon</th>\n",
              "      <th>Trihalomethanes</th>\n",
              "      <th>Turbidity</th>\n",
              "      <th>Potability</th>\n",
              "    </tr>\n",
              "  </thead>\n",
              "  <tbody>\n",
              "    <tr>\n",
              "      <th>0</th>\n",
              "      <td>NaN</td>\n",
              "      <td>204.890455</td>\n",
              "      <td>20791.318981</td>\n",
              "      <td>7.300212</td>\n",
              "      <td>368.516441</td>\n",
              "      <td>564.308654</td>\n",
              "      <td>10.379783</td>\n",
              "      <td>86.990970</td>\n",
              "      <td>2.963135</td>\n",
              "      <td>0</td>\n",
              "    </tr>\n",
              "    <tr>\n",
              "      <th>1</th>\n",
              "      <td>3.716080</td>\n",
              "      <td>129.422921</td>\n",
              "      <td>18630.057858</td>\n",
              "      <td>6.635246</td>\n",
              "      <td>NaN</td>\n",
              "      <td>592.885359</td>\n",
              "      <td>15.180013</td>\n",
              "      <td>56.329076</td>\n",
              "      <td>4.500656</td>\n",
              "      <td>0</td>\n",
              "    </tr>\n",
              "    <tr>\n",
              "      <th>2</th>\n",
              "      <td>8.099124</td>\n",
              "      <td>224.236259</td>\n",
              "      <td>19909.541732</td>\n",
              "      <td>9.275884</td>\n",
              "      <td>NaN</td>\n",
              "      <td>418.606213</td>\n",
              "      <td>16.868637</td>\n",
              "      <td>66.420093</td>\n",
              "      <td>3.055934</td>\n",
              "      <td>0</td>\n",
              "    </tr>\n",
              "    <tr>\n",
              "      <th>3</th>\n",
              "      <td>8.316766</td>\n",
              "      <td>214.373394</td>\n",
              "      <td>22018.417441</td>\n",
              "      <td>8.059332</td>\n",
              "      <td>356.886136</td>\n",
              "      <td>363.266516</td>\n",
              "      <td>18.436524</td>\n",
              "      <td>100.341674</td>\n",
              "      <td>4.628771</td>\n",
              "      <td>0</td>\n",
              "    </tr>\n",
              "    <tr>\n",
              "      <th>4</th>\n",
              "      <td>9.092223</td>\n",
              "      <td>181.101509</td>\n",
              "      <td>17978.986339</td>\n",
              "      <td>6.546600</td>\n",
              "      <td>310.135738</td>\n",
              "      <td>398.410813</td>\n",
              "      <td>11.558279</td>\n",
              "      <td>31.997993</td>\n",
              "      <td>4.075075</td>\n",
              "      <td>0</td>\n",
              "    </tr>\n",
              "  </tbody>\n",
              "</table>\n",
              "</div>"
            ],
            "text/plain": [
              "         ph    Hardness        Solids  Chloramines     Sulfate  Conductivity  \\\n",
              "0       NaN  204.890455  20791.318981     7.300212  368.516441    564.308654   \n",
              "1  3.716080  129.422921  18630.057858     6.635246         NaN    592.885359   \n",
              "2  8.099124  224.236259  19909.541732     9.275884         NaN    418.606213   \n",
              "3  8.316766  214.373394  22018.417441     8.059332  356.886136    363.266516   \n",
              "4  9.092223  181.101509  17978.986339     6.546600  310.135738    398.410813   \n",
              "\n",
              "   Organic_carbon  Trihalomethanes  Turbidity  Potability  \n",
              "0       10.379783        86.990970   2.963135           0  \n",
              "1       15.180013        56.329076   4.500656           0  \n",
              "2       16.868637        66.420093   3.055934           0  \n",
              "3       18.436524       100.341674   4.628771           0  \n",
              "4       11.558279        31.997993   4.075075           0  "
            ]
          },
          "execution_count": 24,
          "metadata": {},
          "output_type": "execute_result"
        }
      ],
      "source": [
        "# Load the dataset\n",
        "df = pd.read_csv('./water_portability.csv')\n",
        "df.head()"
      ]
    },
    {
      "cell_type": "markdown",
      "metadata": {},
      "source": [
        "### **Data Preprocessing**"
      ]
    },
    {
      "cell_type": "code",
      "execution_count": 25,
      "metadata": {},
      "outputs": [
        {
          "data": {
            "text/plain": [
              "ph                 491\n",
              "Hardness             0\n",
              "Solids               0\n",
              "Chloramines          0\n",
              "Sulfate            781\n",
              "Conductivity         0\n",
              "Organic_carbon       0\n",
              "Trihalomethanes    162\n",
              "Turbidity            0\n",
              "Potability           0\n",
              "dtype: int64"
            ]
          },
          "execution_count": 25,
          "metadata": {},
          "output_type": "execute_result"
        }
      ],
      "source": [
        "# Check if there are any missing values\n",
        "df.isna().sum()"
      ]
    },
    {
      "cell_type": "code",
      "execution_count": 26,
      "metadata": {},
      "outputs": [
        {
          "data": {
            "text/html": [
              "<div>\n",
              "<style scoped>\n",
              "    .dataframe tbody tr th:only-of-type {\n",
              "        vertical-align: middle;\n",
              "    }\n",
              "\n",
              "    .dataframe tbody tr th {\n",
              "        vertical-align: top;\n",
              "    }\n",
              "\n",
              "    .dataframe thead th {\n",
              "        text-align: right;\n",
              "    }\n",
              "</style>\n",
              "<table border=\"1\" class=\"dataframe\">\n",
              "  <thead>\n",
              "    <tr style=\"text-align: right;\">\n",
              "      <th></th>\n",
              "      <th>ph</th>\n",
              "      <th>Hardness</th>\n",
              "      <th>Solids</th>\n",
              "      <th>Chloramines</th>\n",
              "      <th>Sulfate</th>\n",
              "      <th>Conductivity</th>\n",
              "      <th>Organic_carbon</th>\n",
              "      <th>Trihalomethanes</th>\n",
              "      <th>Turbidity</th>\n",
              "      <th>Potability</th>\n",
              "    </tr>\n",
              "  </thead>\n",
              "  <tbody>\n",
              "    <tr>\n",
              "      <th>0</th>\n",
              "      <td>7.080795</td>\n",
              "      <td>204.890455</td>\n",
              "      <td>20791.318981</td>\n",
              "      <td>7.300212</td>\n",
              "      <td>368.516441</td>\n",
              "      <td>564.308654</td>\n",
              "      <td>10.379783</td>\n",
              "      <td>86.990970</td>\n",
              "      <td>2.963135</td>\n",
              "      <td>0</td>\n",
              "    </tr>\n",
              "    <tr>\n",
              "      <th>1</th>\n",
              "      <td>3.716080</td>\n",
              "      <td>129.422921</td>\n",
              "      <td>18630.057858</td>\n",
              "      <td>6.635246</td>\n",
              "      <td>333.775777</td>\n",
              "      <td>592.885359</td>\n",
              "      <td>15.180013</td>\n",
              "      <td>56.329076</td>\n",
              "      <td>4.500656</td>\n",
              "      <td>0</td>\n",
              "    </tr>\n",
              "    <tr>\n",
              "      <th>2</th>\n",
              "      <td>8.099124</td>\n",
              "      <td>224.236259</td>\n",
              "      <td>19909.541732</td>\n",
              "      <td>9.275884</td>\n",
              "      <td>333.775777</td>\n",
              "      <td>418.606213</td>\n",
              "      <td>16.868637</td>\n",
              "      <td>66.420093</td>\n",
              "      <td>3.055934</td>\n",
              "      <td>0</td>\n",
              "    </tr>\n",
              "    <tr>\n",
              "      <th>3</th>\n",
              "      <td>8.316766</td>\n",
              "      <td>214.373394</td>\n",
              "      <td>22018.417441</td>\n",
              "      <td>8.059332</td>\n",
              "      <td>356.886136</td>\n",
              "      <td>363.266516</td>\n",
              "      <td>18.436524</td>\n",
              "      <td>100.341674</td>\n",
              "      <td>4.628771</td>\n",
              "      <td>0</td>\n",
              "    </tr>\n",
              "    <tr>\n",
              "      <th>4</th>\n",
              "      <td>9.092223</td>\n",
              "      <td>181.101509</td>\n",
              "      <td>17978.986339</td>\n",
              "      <td>6.546600</td>\n",
              "      <td>310.135738</td>\n",
              "      <td>398.410813</td>\n",
              "      <td>11.558279</td>\n",
              "      <td>31.997993</td>\n",
              "      <td>4.075075</td>\n",
              "      <td>0</td>\n",
              "    </tr>\n",
              "  </tbody>\n",
              "</table>\n",
              "</div>"
            ],
            "text/plain": [
              "         ph    Hardness        Solids  Chloramines     Sulfate  Conductivity  \\\n",
              "0  7.080795  204.890455  20791.318981     7.300212  368.516441    564.308654   \n",
              "1  3.716080  129.422921  18630.057858     6.635246  333.775777    592.885359   \n",
              "2  8.099124  224.236259  19909.541732     9.275884  333.775777    418.606213   \n",
              "3  8.316766  214.373394  22018.417441     8.059332  356.886136    363.266516   \n",
              "4  9.092223  181.101509  17978.986339     6.546600  310.135738    398.410813   \n",
              "\n",
              "   Organic_carbon  Trihalomethanes  Turbidity  Potability  \n",
              "0       10.379783        86.990970   2.963135           0  \n",
              "1       15.180013        56.329076   4.500656           0  \n",
              "2       16.868637        66.420093   3.055934           0  \n",
              "3       18.436524       100.341674   4.628771           0  \n",
              "4       11.558279        31.997993   4.075075           0  "
            ]
          },
          "execution_count": 26,
          "metadata": {},
          "output_type": "execute_result"
        }
      ],
      "source": [
        "# Handle missing values (if any) by replacing them with the mean\n",
        "df.fillna(df.mean(), inplace=True)\n",
        "df.head()"
      ]
    },
    {
      "cell_type": "code",
      "execution_count": 27,
      "metadata": {},
      "outputs": [
        {
          "data": {
            "text/html": [
              "<div>\n",
              "<style scoped>\n",
              "    .dataframe tbody tr th:only-of-type {\n",
              "        vertical-align: middle;\n",
              "    }\n",
              "\n",
              "    .dataframe tbody tr th {\n",
              "        vertical-align: top;\n",
              "    }\n",
              "\n",
              "    .dataframe thead th {\n",
              "        text-align: right;\n",
              "    }\n",
              "</style>\n",
              "<table border=\"1\" class=\"dataframe\">\n",
              "  <thead>\n",
              "    <tr style=\"text-align: right;\">\n",
              "      <th></th>\n",
              "      <th>ph</th>\n",
              "      <th>Hardness</th>\n",
              "      <th>Solids</th>\n",
              "      <th>Chloramines</th>\n",
              "      <th>Sulfate</th>\n",
              "      <th>Conductivity</th>\n",
              "      <th>Organic_carbon</th>\n",
              "      <th>Trihalomethanes</th>\n",
              "      <th>Turbidity</th>\n",
              "      <th>Potability</th>\n",
              "    </tr>\n",
              "  </thead>\n",
              "  <tbody>\n",
              "    <tr>\n",
              "      <th>0</th>\n",
              "      <td>-6.043133e-16</td>\n",
              "      <td>0.259195</td>\n",
              "      <td>-0.139471</td>\n",
              "      <td>0.112415</td>\n",
              "      <td>9.613574e-01</td>\n",
              "      <td>1.708954</td>\n",
              "      <td>-1.180651</td>\n",
              "      <td>1.306149</td>\n",
              "      <td>-1.286298</td>\n",
              "      <td>0</td>\n",
              "    </tr>\n",
              "    <tr>\n",
              "      <th>1</th>\n",
              "      <td>-2.289339e+00</td>\n",
              "      <td>-2.036414</td>\n",
              "      <td>-0.385987</td>\n",
              "      <td>-0.307694</td>\n",
              "      <td>3.145987e-15</td>\n",
              "      <td>2.062575</td>\n",
              "      <td>0.270597</td>\n",
              "      <td>-0.638480</td>\n",
              "      <td>0.684218</td>\n",
              "      <td>0</td>\n",
              "    </tr>\n",
              "    <tr>\n",
              "      <th>2</th>\n",
              "      <td>6.928678e-01</td>\n",
              "      <td>0.847665</td>\n",
              "      <td>-0.240047</td>\n",
              "      <td>1.360594</td>\n",
              "      <td>3.145987e-15</td>\n",
              "      <td>-0.094032</td>\n",
              "      <td>0.781117</td>\n",
              "      <td>0.001509</td>\n",
              "      <td>-1.167365</td>\n",
              "      <td>0</td>\n",
              "    </tr>\n",
              "    <tr>\n",
              "      <th>3</th>\n",
              "      <td>8.409504e-01</td>\n",
              "      <td>0.547651</td>\n",
              "      <td>0.000493</td>\n",
              "      <td>0.592008</td>\n",
              "      <td>6.395190e-01</td>\n",
              "      <td>-0.778830</td>\n",
              "      <td>1.255134</td>\n",
              "      <td>2.152874</td>\n",
              "      <td>0.848412</td>\n",
              "      <td>0</td>\n",
              "    </tr>\n",
              "    <tr>\n",
              "      <th>4</th>\n",
              "      <td>1.368569e+00</td>\n",
              "      <td>-0.464429</td>\n",
              "      <td>-0.460249</td>\n",
              "      <td>-0.363698</td>\n",
              "      <td>-6.541765e-01</td>\n",
              "      <td>-0.343939</td>\n",
              "      <td>-0.824357</td>\n",
              "      <td>-2.181599</td>\n",
              "      <td>0.138786</td>\n",
              "      <td>0</td>\n",
              "    </tr>\n",
              "  </tbody>\n",
              "</table>\n",
              "</div>"
            ],
            "text/plain": [
              "             ph  Hardness    Solids  Chloramines       Sulfate  Conductivity  \\\n",
              "0 -6.043133e-16  0.259195 -0.139471     0.112415  9.613574e-01      1.708954   \n",
              "1 -2.289339e+00 -2.036414 -0.385987    -0.307694  3.145987e-15      2.062575   \n",
              "2  6.928678e-01  0.847665 -0.240047     1.360594  3.145987e-15     -0.094032   \n",
              "3  8.409504e-01  0.547651  0.000493     0.592008  6.395190e-01     -0.778830   \n",
              "4  1.368569e+00 -0.464429 -0.460249    -0.363698 -6.541765e-01     -0.343939   \n",
              "\n",
              "   Organic_carbon  Trihalomethanes  Turbidity  Potability  \n",
              "0       -1.180651         1.306149  -1.286298           0  \n",
              "1        0.270597        -0.638480   0.684218           0  \n",
              "2        0.781117         0.001509  -1.167365           0  \n",
              "3        1.255134         2.152874   0.848412           0  \n",
              "4       -0.824357        -2.181599   0.138786           0  "
            ]
          },
          "execution_count": 27,
          "metadata": {},
          "output_type": "execute_result"
        }
      ],
      "source": [
        "# Normalize the dataset (Check if the column name is not \"Potability\". if not then apply normalization)\n",
        "for col in df.columns:\n",
        "\tif col != 'Potability':\n",
        "\t\tdf[col] = (df[col] - np.mean(df[col])) / (np.std(df[col]))\n",
        "df.head()"
      ]
    },
    {
      "cell_type": "markdown",
      "metadata": {},
      "source": [
        "### **Generate Random Test and Train Splits**"
      ]
    },
    {
      "cell_type": "code",
      "execution_count": 28,
      "metadata": {},
      "outputs": [],
      "source": [
        "seed = 420\n",
        "train_fraction = 0.8\n",
        "train = df.sample(frac=train_fraction, random_state=seed)\n",
        "test = df.drop(train.index)"
      ]
    },
    {
      "cell_type": "code",
      "execution_count": 29,
      "metadata": {},
      "outputs": [
        {
          "data": {
            "text/plain": [
              "<bound method DataFrame.info of                 ph  Hardness    Solids  Chloramines       Sulfate  \\\n",
              "2043  3.216080e-02 -0.151140  0.366530    -0.325005 -4.019393e-01   \n",
              "1952 -4.328949e-01 -0.904473  0.324132     1.497359 -1.282986e+00   \n",
              "3236 -1.573976e+00  1.827556  2.964878    -0.852325  3.145987e-15   \n",
              "1434  1.644569e-01 -0.008067 -0.282834    -0.291323 -9.943908e-01   \n",
              "2725  4.763279e-01  0.774911  2.106667    -0.616725 -8.701890e-01   \n",
              "...            ...       ...       ...          ...           ...   \n",
              "861  -6.043133e-16 -0.353426  0.739688    -0.361530 -8.457315e-02   \n",
              "51    4.958983e-01 -2.917494 -1.140673    -1.206665 -2.395736e+00   \n",
              "1673  5.413918e-01  1.658633 -0.715506     0.602373  3.145987e-15   \n",
              "1018 -7.264140e-01  0.683618 -0.050226     1.373209 -3.488787e-01   \n",
              "362  -1.390345e-01 -0.168062 -0.003999    -0.942430  8.317196e-01   \n",
              "\n",
              "      Conductivity  Organic_carbon  Trihalomethanes  Turbidity  Potability  \n",
              "2043     -0.085385       -0.429187         0.765639   0.696956           1  \n",
              "1952      0.659240       -1.084726        -0.046993  -0.531719           1  \n",
              "3236      2.032186        0.682232        -1.360884  -0.094082           1  \n",
              "1434     -0.100599        0.869739         0.194772  -1.262570           0  \n",
              "2725      1.701670       -0.765474        -0.940977   0.814136           1  \n",
              "...            ...             ...              ...        ...         ...  \n",
              "861      -0.553181       -0.979716        -0.277880  -0.722213           0  \n",
              "51        2.215211       -1.412970        -0.019795  -1.947217           0  \n",
              "1673     -0.432441        0.682930        -0.453478  -0.067774           0  \n",
              "1018      0.223625        0.138883        -0.250709  -0.655117           0  \n",
              "362      -0.953067       -1.430994         0.127767   0.741487           1  \n",
              "\n",
              "[2621 rows x 10 columns]>"
            ]
          },
          "execution_count": 29,
          "metadata": {},
          "output_type": "execute_result"
        }
      ],
      "source": [
        "train.info"
      ]
    },
    {
      "cell_type": "code",
      "execution_count": 30,
      "metadata": {},
      "outputs": [
        {
          "data": {
            "text/plain": [
              "<bound method DataFrame.info of                 ph  Hardness    Solids  Chloramines       Sulfate  \\\n",
              "2     6.928678e-01  0.847665 -0.240047     1.360594  3.145987e-15   \n",
              "3     8.409504e-01  0.547651  0.000493     0.592008  6.395190e-01   \n",
              "5    -1.018355e+00 -0.245057  0.768155     0.266983 -1.964024e-01   \n",
              "15   -4.990862e-01 -0.293131  2.172994     1.584061  8.498721e-01   \n",
              "18    1.289126e+00  2.524360 -0.291277    -0.579941  3.145987e-15   \n",
              "...            ...       ...       ...          ...           ...   \n",
              "3257 -2.704077e-01  2.303963 -0.345009    -1.128397  7.691054e-02   \n",
              "3260 -6.043133e-16 -1.874772 -1.484399     1.202909  3.145987e-15   \n",
              "3262  8.826874e-01  0.065148  0.736847    -0.407634 -3.956762e-01   \n",
              "3265  7.597026e-01  0.204887  0.648745    -0.410251 -1.352887e-01   \n",
              "3274 -1.329516e+00  1.041355 -1.144058    -0.517373  3.145987e-15   \n",
              "\n",
              "      Conductivity  Organic_carbon  Trihalomethanes  Turbidity  Potability  \n",
              "2        -0.094032        0.781117         0.001509  -1.167365           0  \n",
              "3        -0.778830        1.255134         2.152874   0.848412           0  \n",
              "5        -1.803416       -1.779276        -0.727982  -1.803337           0  \n",
              "15        1.120359       -0.829950         0.550204   0.524902           0  \n",
              "18        0.064828       -0.422115        -0.163314  -1.961774           0  \n",
              "...            ...             ...              ...        ...         ...  \n",
              "3257     -1.466125        1.781849         0.571174   1.590841           1  \n",
              "3260      0.024859       -1.697969         0.531290  -0.342485           1  \n",
              "3262      0.911525        0.333805        -1.977177   0.715024           1  \n",
              "3265      0.227784       -0.010308        -0.221347  -0.775319           1  \n",
              "3274     -0.288597       -0.942064         0.703468   0.950797           1  \n",
              "\n",
              "[655 rows x 10 columns]>"
            ]
          },
          "execution_count": 30,
          "metadata": {},
          "output_type": "execute_result"
        }
      ],
      "source": [
        "test.info"
      ]
    },
    {
      "cell_type": "markdown",
      "metadata": {
        "id": "rDu7bwbNRhaK"
      },
      "source": [
        "# ***2. ML Model 1: Perceptron***"
      ]
    },
    {
      "cell_type": "code",
      "execution_count": null,
      "metadata": {
        "id": "oAd4cNwERr90"
      },
      "outputs": [],
      "source": []
    },
    {
      "cell_type": "markdown",
      "metadata": {
        "id": "y81SQxOrRso5"
      },
      "source": [
        "# ***3. ML Model 2: Fisher Discriminant***\n",
        "\n"
      ]
    },
    {
      "cell_type": "code",
      "execution_count": null,
      "metadata": {
        "id": "OQ8CVHsER-Mh"
      },
      "outputs": [],
      "source": []
    },
    {
      "cell_type": "markdown",
      "metadata": {
        "id": "HqIC34nWR-n7"
      },
      "source": [
        "# ***4. ML Model 3: KNN***"
      ]
    },
    {
      "cell_type": "code",
      "execution_count": null,
      "metadata": {
        "id": "-hA5FysjSBzj"
      },
      "outputs": [],
      "source": []
    },
    {
      "cell_type": "markdown",
      "metadata": {
        "id": "8g7NxS5sSCRv"
      },
      "source": [
        "# ***5. ML Model 4 (Based on research literature): QDA***"
      ]
    },
    {
      "cell_type": "code",
      "execution_count": null,
      "metadata": {
        "id": "Pw63z3amSSo_"
      },
      "outputs": [],
      "source": []
    },
    {
      "cell_type": "markdown",
      "metadata": {
        "id": "2p-mPVFCSe9V"
      },
      "source": [
        "# ***6. Comparison of insights drawn from the models***"
      ]
    },
    {
      "cell_type": "code",
      "execution_count": null,
      "metadata": {
        "id": "LTjoKWdNSpcE"
      },
      "outputs": [],
      "source": []
    },
    {
      "cell_type": "markdown",
      "metadata": {
        "id": "81SwQ_y4TaSc"
      },
      "source": [
        "# **_7. References_**\n",
        "\n",
        "1.   List item\n",
        "2.   List item\n",
        "\n"
      ]
    }
  ],
  "metadata": {
    "colab": {
      "provenance": []
    },
    "kernelspec": {
      "display_name": "Python 3",
      "name": "python3"
    },
    "language_info": {
      "codemirror_mode": {
        "name": "ipython",
        "version": 3
      },
      "file_extension": ".py",
      "mimetype": "text/x-python",
      "name": "python",
      "nbconvert_exporter": "python",
      "pygments_lexer": "ipython3",
      "version": "3.12.0"
    }
  },
  "nbformat": 4,
  "nbformat_minor": 0
}
